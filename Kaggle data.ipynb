{
 "metadata": {
  "language_info": {
   "codemirror_mode": {
    "name": "ipython",
    "version": 3
   },
   "file_extension": ".py",
   "mimetype": "text/x-python",
   "name": "python",
   "nbconvert_exporter": "python",
   "pygments_lexer": "ipython3",
   "version": "3.8.5-final"
  },
  "orig_nbformat": 2,
  "kernelspec": {
   "name": "Python 3.8.5 64-bit ('metis': conda)",
   "display_name": "Python 3.8.5 64-bit ('metis': conda)",
   "metadata": {
    "interpreter": {
     "hash": "6c472b8915bc419c743ebcff76dbcf6e203ef99bf90689a3fba2566158d7e07a"
    }
   }
  }
 },
 "nbformat": 4,
 "nbformat_minor": 2,
 "cells": [
  {
   "cell_type": "code",
   "execution_count": 430,
   "metadata": {},
   "outputs": [],
   "source": [
    "import pandas as pd\n",
    "import matplotlib.pyplot as plt\n",
    "from matplotlib.colors import ListedColormap\n",
    "import seaborn as sns\n",
    "from scipy.spatial.distance import euclidean as euc\n",
    "import numpy as np\n",
    "from sklearn.datasets import make_classification\n",
    "\n",
    "from sklearn.model_selection import train_test_split, cross_val_score, KFold\n",
    "from sklearn.metrics import mean_squared_error, r2_score\n",
    "from sklearn.preprocessing import StandardScaler\n",
    "\n",
    "from sklearn.metrics import plot_confusion_matrix, plot_roc_curve, classification_report\n",
    "from sklearn.linear_model import LogisticRegression\n",
    "from sklearn.neighbors import KNeighborsClassifier, KNeighborsRegressor\n",
    "np.random.seed(0)\n",
    "import warnings\n",
    "from simpsons_modeling_functions import r2_score_lr\n",
    "from visualize import generate_moons_df, preprocess, plot_boundaries\n",
    "warnings.filterwarnings('ignore')\n",
    "\n",
    "pd.set_option(\"display.max_rows\", 600)\n",
    "pd.set_option(\"display.max_columns\", 60)"
   ]
  },
  {
   "source": [
    "## Working with Kaggle dataset"
   ],
   "cell_type": "markdown",
   "metadata": {}
  },
  {
   "cell_type": "code",
   "execution_count": 18,
   "metadata": {},
   "outputs": [
    {
     "output_type": "stream",
     "name": "stdout",
     "text": [
      "Data collection.ipynb                 all_star_rosters.pickle\nKaggle data.ipynb                     all_star_votes.pickle\nNBA All Stars 2000-2016 - Sheet1.csv  data-3RdaG.csv\nPlayers.csv                           player_data.csv\nSeasons_Stats.csv\n"
     ]
    }
   ],
   "source": [
    "ls"
   ]
  },
  {
   "cell_type": "code",
   "execution_count": 254,
   "metadata": {},
   "outputs": [],
   "source": [
    "all_stars2000_2016 = pd.read_csv(\"NBA All Stars 2000-2016 - Sheet1.csv\")"
   ]
  },
  {
   "cell_type": "code",
   "execution_count": 681,
   "metadata": {},
   "outputs": [],
   "source": [
    "# Initially was variable \"all_stars2000_2016\"\n",
    "\n",
    "master_df = pd.read_csv(\"Seasons_Stats.csv\")\n",
    "master_df = master_df[(master_df[\"Year\"] >= 2000.0) & (players[\"Year\"] <= 2016.00) & (players[\"Year\"] != 1999.0)].drop(columns=\"Unnamed: 0\")\n",
    "master_df[\"Year\"] = master_df[\"Year\"].astype(int)\n",
    "master_df[\"Player\"] = master_df[\"Player\"].str.strip(\"*\")\n",
    "master_df.drop(columns=[\"blanl\", \"blank2\"], inplace=True)\n",
    "master_df = master_df.reset_index()\n",
    "master_df.drop(columns=\"index\", inplace=True)"
   ]
  },
  {
   "cell_type": "code",
   "execution_count": 682,
   "metadata": {
    "tags": []
   },
   "outputs": [],
   "source": [
    "# Adding All-Star info to existing player df\n",
    "\n",
    "all_star_yes_no_column = []\n",
    "all_star_name_column = []\n",
    "all_star_how_voted_column = []\n",
    "for year in master_df[\"Year\"].unique():\n",
    "    all_players_df = master_df[master_df[\"Year\"] == year]\n",
    "    year_players = all_players_df[\"Player\"]\n",
    "    all_stars_df = all_stars2000_2016[all_stars2000_2016[\"Year\"] == year]\n",
    "    for guy in year_players:\n",
    "        all_star_name_column.append(guy)\n",
    "        if guy == \"Metta World Peace\" or guy == \"Ron Artest\":\n",
    "            if \"Metta World Peace\" in list(all_stars_df[\"Player\"]) or \"Ron Artest\" in list(all_stars_df[\"Player\"]):\n",
    "                all_star_yes_no_column.append(\"Yes\")\n",
    "                selection_type = all_stars_df[all_stars_df[\"Player\"] == guy][\"Selection Type\"]\n",
    "                all_star_how_voted_column.append(selection_type)\n",
    "            else:\n",
    "                all_star_yes_no_column.append(\"No\")\n",
    "                all_star_how_voted_column.append(\"N/a\")\n",
    "        else:\n",
    "            if guy in list(all_stars_df[\"Player\"]):\n",
    "                all_star_yes_no_column.append(\"Yes\")\n",
    "                selection_type = all_stars_df[all_stars_df[\"Player\"] == guy][\"Selection Type\"]\n",
    "                all_star_how_voted_column.append(selection_type)\n",
    "            else:\n",
    "                all_star_yes_no_column.append(\"No\")\n",
    "                all_star_how_voted_column.append(\"N/a\")\n",
    "\n",
    "all_star_details_df = pd.DataFrame({\"Player (check)\": all_star_name_column, \"All-Star?\": all_star_yes_no_column, \"Selection process\": all_star_how_voted_column})\n",
    "\n",
    "# Updating resulting df and then adding it to \"master_df\"\n",
    "\n",
    "master_df[all_star_details_df.columns] = all_star_details_df\n",
    "\n",
    "# Cutting guys who played fewer than 5 games, primarily to drop the Marcus Williams row causing problems in the function below (two guys named Marcus Williams played in the late 2000s)\n",
    "#master_df = master_df.drop(master_df[(master_df[\"G\"] < 5) & (master_df[\"Player\"] != \"Jeremy Lin\")].index)\n",
    "#master_df = master_df.reset_index().drop(columns=\"index\")"
   ]
  },
  {
   "cell_type": "code",
   "execution_count": 683,
   "metadata": {
    "tags": []
   },
   "outputs": [],
   "source": [
    "# If a guy got traded he is listed multiple times: with his different team stats and again with his total stats\n",
    "\n",
    "trade_dupes = []\n",
    "years = list(master_df[\"Year\"].unique())\n",
    "for year in years:\n",
    "    all_players_df = master_df[master_df[\"Year\"] == year]\n",
    "    year_players = all_players_df[\"Player\"]\n",
    "    players_list = list(master_df[master_df[\"Year\"] == year][\"Player\"])\n",
    "    for guy in list(set(players_list)):\n",
    "        if players_list.count(guy) > 1:\n",
    "            if len(master_df[(master_df[\"Player\"] == guy) & (master_df[\"Tm\"] != \"TOT\") & (master_df[\"Year\"] == year)][\"Age\"].unique()) == 1:\n",
    "                dupe_players_index = master_df[(master_df[\"Player\"] == guy) & (master_df[\"Tm\"] != \"TOT\") & (master_df[\"Year\"] == year)].sort_values(by=\"G\", ascending=False).index\n",
    "                new_team_index = dupe_players_index[0]\n",
    "                trade_dupes.extend(list(dupe_players_index))\n",
    "                tot_index = master_df[(master_df[\"Player\"] == guy) & (master_df[\"Tm\"] == \"TOT\") & (master_df[\"Year\"] == year)].index[0]\n",
    "                new_team = master_df.iloc[new_team_index][\"Tm\"]\n",
    "                master_df.iloc[tot_index, 4] = new_team\n",
    "\n",
    "# Dropping last remaining \"TOT\" set for Marcus Williams in 2008\n",
    "marcus_williams_dupe_index = master_df[(master_df[\"Player\"] == \"Marcus Williams\") & (master_df[\"Tm\"] != \"TOT\") & (master_df[\"Year\"] == 2008) & (master_df[\"Age\"] == 21.0)].sort_values(by=\"G\", ascending=False).index\n",
    "new_marcus_team_index = marcus_williams_dupe_index[0]\n",
    "trade_dupes.extend(list(marcus_williams_dupe_index))\n",
    "tot_marcus_index = master_df[(master_df[\"Player\"] == \"Marcus Williams\") & (master_df[\"Tm\"] == \"TOT\") & (master_df[\"Year\"] == 2008) & (master_df[\"Age\"] == 21.0)].index[0]\n",
    "new_team = master_df.iloc[new_marcus_team_index][\"Tm\"]\n",
    "master_df.iloc[tot_marcus_index, 4] = new_team\n",
    "\n",
    "# Dropping the duplicate rows \n",
    "trade_dupes.sort(reverse=True)\n",
    "for row in trade_dupes:\n",
    "    master_df.drop(row, inplace=True)\n",
    "                #master_df.drop(for_dropping, inplace=True)\n"
   ]
  },
  {
   "cell_type": "code",
   "execution_count": 685,
   "metadata": {},
   "outputs": [
    {
     "output_type": "execute_result",
     "data": {
      "text/plain": [
       "Empty DataFrame\n",
       "Columns: [Year, Player, Pos, Age, Tm, G, GS, MP, PER, TS%, 3PAr, FTr, ORB%, DRB%, TRB%, AST%, STL%, BLK%, TOV%, USG%, OWS, DWS, WS, WS/48, OBPM, DBPM, BPM, VORP, FG, FGA, FG%, 3P, 3PA, 3P%, 2P, 2PA, 2P%, eFG%, FT, FTA, FT%, ORB, DRB, TRB, AST, STL, BLK, TOV, PF, PTS, Player (check), All-Star?, Selection process]\n",
       "Index: []"
      ],
      "text/html": "<div>\n<style scoped>\n    .dataframe tbody tr th:only-of-type {\n        vertical-align: middle;\n    }\n\n    .dataframe tbody tr th {\n        vertical-align: top;\n    }\n\n    .dataframe thead th {\n        text-align: right;\n    }\n</style>\n<table border=\"1\" class=\"dataframe\">\n  <thead>\n    <tr style=\"text-align: right;\">\n      <th></th>\n      <th>Year</th>\n      <th>Player</th>\n      <th>Pos</th>\n      <th>Age</th>\n      <th>Tm</th>\n      <th>G</th>\n      <th>GS</th>\n      <th>MP</th>\n      <th>PER</th>\n      <th>TS%</th>\n      <th>3PAr</th>\n      <th>FTr</th>\n      <th>ORB%</th>\n      <th>DRB%</th>\n      <th>TRB%</th>\n      <th>AST%</th>\n      <th>STL%</th>\n      <th>BLK%</th>\n      <th>TOV%</th>\n      <th>USG%</th>\n      <th>OWS</th>\n      <th>DWS</th>\n      <th>WS</th>\n      <th>WS/48</th>\n      <th>OBPM</th>\n      <th>DBPM</th>\n      <th>BPM</th>\n      <th>VORP</th>\n      <th>FG</th>\n      <th>FGA</th>\n      <th>FG%</th>\n      <th>3P</th>\n      <th>3PA</th>\n      <th>3P%</th>\n      <th>2P</th>\n      <th>2PA</th>\n      <th>2P%</th>\n      <th>eFG%</th>\n      <th>FT</th>\n      <th>FTA</th>\n      <th>FT%</th>\n      <th>ORB</th>\n      <th>DRB</th>\n      <th>TRB</th>\n      <th>AST</th>\n      <th>STL</th>\n      <th>BLK</th>\n      <th>TOV</th>\n      <th>PF</th>\n      <th>PTS</th>\n      <th>Player (check)</th>\n      <th>All-Star?</th>\n      <th>Selection process</th>\n    </tr>\n  </thead>\n  <tbody>\n  </tbody>\n</table>\n</div>"
     },
     "metadata": {},
     "execution_count": 685
    }
   ],
   "source": [
    "master_df[master_df[\"Tm\"] == \"TOT\"]"
   ]
  },
  {
   "cell_type": "code",
   "execution_count": 686,
   "metadata": {},
   "outputs": [],
   "source": [
    "# Checking to make sure number of All-Star appearances is correct\n",
    "# Initially asterisks proved to be a problem so I stripped them\n",
    "# Then Ron Artest/Metta World Peace "
   ]
  },
  {
   "cell_type": "code",
   "execution_count": 401,
   "metadata": {},
   "outputs": [],
   "source": [
    "# Adding, importantly, a column called \"All-Star next season?\"\n",
    "\n",
    "sorted_master_df = master_df.sort_values(by=[\"Player\", \"Year\"]).reset_index().drop(columns=[\"index\", \"Player (check)\"])\n",
    "next_year_column = []\n",
    "\n",
    "for i in range(0, (len(list(sorted_master_df[\"Player\"])))-1):\n",
    "    if sorted_master_df.iloc[i][\"Player\"] == sorted_master_df.iloc[(i+1)][\"Player\"]:\n",
    "        if sorted_master_df.iloc[(i+1)][\"All-Star?\"] == \"Yes\":\n",
    "            next_year_column.append(\"Yes\")\n",
    "        else:\n",
    "            next_year_column.append(\"No\")\n",
    "    else:\n",
    "        next_year_column.append(\"No\")\n",
    "\n",
    "# Because last player in his last year (Big Z) can't make All-Star Game next year    \n",
    "next_year_column.append(\"No\")\n",
    "\n",
    "sorted_master_df[\"All-Star next season?\"] = next_year_column\n",
    "sorted_master_df[\"All-Star next season?\"] = sorted_master_df[\"All-Star next season?\"].replace(to_replace={\"Yes\": 1, \"No\": 0})"
   ]
  },
  {
   "cell_type": "code",
   "execution_count": 402,
   "metadata": {},
   "outputs": [],
   "source": [
    "# Creating new column and re-indexing for ease of recognition\n",
    "\n",
    "sorted_master_df[\"Player, year\"] = sorted_master_df[\"Player\"] + ', ' + sorted_master_df[\"Year\"].astype(str)\n",
    "reindexed_master_df = sorted_master_df.set_index(\"Player, year\")"
   ]
  },
  {
   "cell_type": "code",
   "execution_count": 403,
   "metadata": {},
   "outputs": [
    {
     "output_type": "execute_result",
     "data": {
      "text/plain": [
       "                     Year         Player Pos   Age   Tm    G   GS   MP  PER  \\\n",
       "Player, year                                                                  \n",
       "Alex Scales, 2006    2006    Alex Scales  SG  27.0  SAS  1.0  0.0  0.0  NaN   \n",
       "Damion James, 2013   2013   Damion James  SF  25.0  BRK  2.0  0.0  0.0  NaN   \n",
       "JamesOn Curry, 2010  2010  JamesOn Curry  PG  24.0  LAC  1.0  0.0  0.0  NaN   \n",
       "\n",
       "                     TS%  3PAr  FTr  ORB%  DRB%  TRB%  AST%  STL%  BLK%  TOV%  \\\n",
       "Player, year                                                                    \n",
       "Alex Scales, 2006    NaN   NaN  NaN   NaN   NaN   NaN   NaN   NaN   NaN   NaN   \n",
       "Damion James, 2013   NaN   NaN  NaN   NaN   NaN   NaN   NaN   NaN   NaN   NaN   \n",
       "JamesOn Curry, 2010  NaN   NaN  NaN   NaN   NaN   NaN   NaN   NaN   NaN   NaN   \n",
       "\n",
       "                     USG%  OWS  DWS   WS  WS/48  OBPM  DBPM  BPM  VORP   FG  \\\n",
       "Player, year                                                                  \n",
       "Alex Scales, 2006     NaN  0.0  0.0  0.0    NaN  -6.0   1.6 -4.4   0.0  0.0   \n",
       "Damion James, 2013    NaN  0.0  0.0  0.0    NaN  -5.5   0.3 -5.2   0.0  0.0   \n",
       "JamesOn Curry, 2010   NaN  0.0  0.0  0.0    NaN  -6.7  -0.2 -6.9   0.0  0.0   \n",
       "\n",
       "                     FGA  FG%   3P  3PA  3P%   2P  2PA  2P%  eFG%   FT  FTA  \\\n",
       "Player, year                                                                  \n",
       "Alex Scales, 2006    0.0  NaN  0.0  0.0  NaN  0.0  0.0  NaN   NaN  0.0  0.0   \n",
       "Damion James, 2013   0.0  NaN  0.0  0.0  NaN  0.0  0.0  NaN   NaN  0.0  0.0   \n",
       "JamesOn Curry, 2010  0.0  NaN  0.0  0.0  NaN  0.0  0.0  NaN   NaN  0.0  0.0   \n",
       "\n",
       "                     FT%  ORB  DRB  TRB  AST  STL  BLK  TOV   PF  PTS  \\\n",
       "Player, year                                                            \n",
       "Alex Scales, 2006    NaN  0.0  0.0  0.0  0.0  0.0  0.0  0.0  0.0  0.0   \n",
       "Damion James, 2013   NaN  0.0  1.0  1.0  0.0  0.0  0.0  0.0  0.0  0.0   \n",
       "JamesOn Curry, 2010  NaN  0.0  0.0  0.0  0.0  0.0  0.0  0.0  0.0  0.0   \n",
       "\n",
       "                    All-Star? Selection process  All-Star next season?  \n",
       "Player, year                                                            \n",
       "Alex Scales, 2006          No               N/a                      0  \n",
       "Damion James, 2013         No               N/a                      0  \n",
       "JamesOn Curry, 2010        No               N/a                      0  "
      ],
      "text/html": "<div>\n<style scoped>\n    .dataframe tbody tr th:only-of-type {\n        vertical-align: middle;\n    }\n\n    .dataframe tbody tr th {\n        vertical-align: top;\n    }\n\n    .dataframe thead th {\n        text-align: right;\n    }\n</style>\n<table border=\"1\" class=\"dataframe\">\n  <thead>\n    <tr style=\"text-align: right;\">\n      <th></th>\n      <th>Year</th>\n      <th>Player</th>\n      <th>Pos</th>\n      <th>Age</th>\n      <th>Tm</th>\n      <th>G</th>\n      <th>GS</th>\n      <th>MP</th>\n      <th>PER</th>\n      <th>TS%</th>\n      <th>3PAr</th>\n      <th>FTr</th>\n      <th>ORB%</th>\n      <th>DRB%</th>\n      <th>TRB%</th>\n      <th>AST%</th>\n      <th>STL%</th>\n      <th>BLK%</th>\n      <th>TOV%</th>\n      <th>USG%</th>\n      <th>OWS</th>\n      <th>DWS</th>\n      <th>WS</th>\n      <th>WS/48</th>\n      <th>OBPM</th>\n      <th>DBPM</th>\n      <th>BPM</th>\n      <th>VORP</th>\n      <th>FG</th>\n      <th>FGA</th>\n      <th>FG%</th>\n      <th>3P</th>\n      <th>3PA</th>\n      <th>3P%</th>\n      <th>2P</th>\n      <th>2PA</th>\n      <th>2P%</th>\n      <th>eFG%</th>\n      <th>FT</th>\n      <th>FTA</th>\n      <th>FT%</th>\n      <th>ORB</th>\n      <th>DRB</th>\n      <th>TRB</th>\n      <th>AST</th>\n      <th>STL</th>\n      <th>BLK</th>\n      <th>TOV</th>\n      <th>PF</th>\n      <th>PTS</th>\n      <th>All-Star?</th>\n      <th>Selection process</th>\n      <th>All-Star next season?</th>\n    </tr>\n    <tr>\n      <th>Player, year</th>\n      <th></th>\n      <th></th>\n      <th></th>\n      <th></th>\n      <th></th>\n      <th></th>\n      <th></th>\n      <th></th>\n      <th></th>\n      <th></th>\n      <th></th>\n      <th></th>\n      <th></th>\n      <th></th>\n      <th></th>\n      <th></th>\n      <th></th>\n      <th></th>\n      <th></th>\n      <th></th>\n      <th></th>\n      <th></th>\n      <th></th>\n      <th></th>\n      <th></th>\n      <th></th>\n      <th></th>\n      <th></th>\n      <th></th>\n      <th></th>\n      <th></th>\n      <th></th>\n      <th></th>\n      <th></th>\n      <th></th>\n      <th></th>\n      <th></th>\n      <th></th>\n      <th></th>\n      <th></th>\n      <th></th>\n      <th></th>\n      <th></th>\n      <th></th>\n      <th></th>\n      <th></th>\n      <th></th>\n      <th></th>\n      <th></th>\n      <th></th>\n      <th></th>\n      <th></th>\n      <th></th>\n    </tr>\n  </thead>\n  <tbody>\n    <tr>\n      <th>Alex Scales, 2006</th>\n      <td>2006</td>\n      <td>Alex Scales</td>\n      <td>SG</td>\n      <td>27.0</td>\n      <td>SAS</td>\n      <td>1.0</td>\n      <td>0.0</td>\n      <td>0.0</td>\n      <td>NaN</td>\n      <td>NaN</td>\n      <td>NaN</td>\n      <td>NaN</td>\n      <td>NaN</td>\n      <td>NaN</td>\n      <td>NaN</td>\n      <td>NaN</td>\n      <td>NaN</td>\n      <td>NaN</td>\n      <td>NaN</td>\n      <td>NaN</td>\n      <td>0.0</td>\n      <td>0.0</td>\n      <td>0.0</td>\n      <td>NaN</td>\n      <td>-6.0</td>\n      <td>1.6</td>\n      <td>-4.4</td>\n      <td>0.0</td>\n      <td>0.0</td>\n      <td>0.0</td>\n      <td>NaN</td>\n      <td>0.0</td>\n      <td>0.0</td>\n      <td>NaN</td>\n      <td>0.0</td>\n      <td>0.0</td>\n      <td>NaN</td>\n      <td>NaN</td>\n      <td>0.0</td>\n      <td>0.0</td>\n      <td>NaN</td>\n      <td>0.0</td>\n      <td>0.0</td>\n      <td>0.0</td>\n      <td>0.0</td>\n      <td>0.0</td>\n      <td>0.0</td>\n      <td>0.0</td>\n      <td>0.0</td>\n      <td>0.0</td>\n      <td>No</td>\n      <td>N/a</td>\n      <td>0</td>\n    </tr>\n    <tr>\n      <th>Damion James, 2013</th>\n      <td>2013</td>\n      <td>Damion James</td>\n      <td>SF</td>\n      <td>25.0</td>\n      <td>BRK</td>\n      <td>2.0</td>\n      <td>0.0</td>\n      <td>0.0</td>\n      <td>NaN</td>\n      <td>NaN</td>\n      <td>NaN</td>\n      <td>NaN</td>\n      <td>NaN</td>\n      <td>NaN</td>\n      <td>NaN</td>\n      <td>NaN</td>\n      <td>NaN</td>\n      <td>NaN</td>\n      <td>NaN</td>\n      <td>NaN</td>\n      <td>0.0</td>\n      <td>0.0</td>\n      <td>0.0</td>\n      <td>NaN</td>\n      <td>-5.5</td>\n      <td>0.3</td>\n      <td>-5.2</td>\n      <td>0.0</td>\n      <td>0.0</td>\n      <td>0.0</td>\n      <td>NaN</td>\n      <td>0.0</td>\n      <td>0.0</td>\n      <td>NaN</td>\n      <td>0.0</td>\n      <td>0.0</td>\n      <td>NaN</td>\n      <td>NaN</td>\n      <td>0.0</td>\n      <td>0.0</td>\n      <td>NaN</td>\n      <td>0.0</td>\n      <td>1.0</td>\n      <td>1.0</td>\n      <td>0.0</td>\n      <td>0.0</td>\n      <td>0.0</td>\n      <td>0.0</td>\n      <td>0.0</td>\n      <td>0.0</td>\n      <td>No</td>\n      <td>N/a</td>\n      <td>0</td>\n    </tr>\n    <tr>\n      <th>JamesOn Curry, 2010</th>\n      <td>2010</td>\n      <td>JamesOn Curry</td>\n      <td>PG</td>\n      <td>24.0</td>\n      <td>LAC</td>\n      <td>1.0</td>\n      <td>0.0</td>\n      <td>0.0</td>\n      <td>NaN</td>\n      <td>NaN</td>\n      <td>NaN</td>\n      <td>NaN</td>\n      <td>NaN</td>\n      <td>NaN</td>\n      <td>NaN</td>\n      <td>NaN</td>\n      <td>NaN</td>\n      <td>NaN</td>\n      <td>NaN</td>\n      <td>NaN</td>\n      <td>0.0</td>\n      <td>0.0</td>\n      <td>0.0</td>\n      <td>NaN</td>\n      <td>-6.7</td>\n      <td>-0.2</td>\n      <td>-6.9</td>\n      <td>0.0</td>\n      <td>0.0</td>\n      <td>0.0</td>\n      <td>NaN</td>\n      <td>0.0</td>\n      <td>0.0</td>\n      <td>NaN</td>\n      <td>0.0</td>\n      <td>0.0</td>\n      <td>NaN</td>\n      <td>NaN</td>\n      <td>0.0</td>\n      <td>0.0</td>\n      <td>NaN</td>\n      <td>0.0</td>\n      <td>0.0</td>\n      <td>0.0</td>\n      <td>0.0</td>\n      <td>0.0</td>\n      <td>0.0</td>\n      <td>0.0</td>\n      <td>0.0</td>\n      <td>0.0</td>\n      <td>No</td>\n      <td>N/a</td>\n      <td>0</td>\n    </tr>\n  </tbody>\n</table>\n</div>"
     },
     "metadata": {},
     "execution_count": 403
    }
   ],
   "source": [
    "#reindexed_master_df[\"MPG\"] = reindexed_master_df[\"MP\"] / reindexed_master_df[\"G\"]\n",
    "reindexed_master_df[reindexed_master_df[features][\"PER\"].isna()]"
   ]
  },
  {
   "cell_type": "code",
   "execution_count": 410,
   "metadata": {},
   "outputs": [
    {
     "output_type": "execute_result",
     "data": {
      "text/plain": [
       "                          Year              Player Pos   Age   Tm     G    GS  \\\n",
       "Player, year                                                                    \n",
       "A.C. Green, 2000          2000          A.C. Green  PF  36.0  LAL  82.0  82.0   \n",
       "A.C. Green, 2001          2001          A.C. Green  PF  37.0  MIA  82.0   1.0   \n",
       "A.J. Bramlett, 2000       2000       A.J. Bramlett   C  23.0  CLE   8.0   0.0   \n",
       "A.J. Guyton, 2001         2001         A.J. Guyton  PG  22.0  CHI  33.0   8.0   \n",
       "A.J. Guyton, 2002         2002         A.J. Guyton  PG  23.0  CHI  45.0   6.0   \n",
       "...                        ...                 ...  ..   ...  ...   ...   ...   \n",
       "Zydrunas Ilgauskas, 2007  2007  Zydrunas Ilgauskas   C  31.0  CLE  78.0  78.0   \n",
       "Zydrunas Ilgauskas, 2008  2008  Zydrunas Ilgauskas   C  32.0  CLE  73.0  73.0   \n",
       "Zydrunas Ilgauskas, 2009  2009  Zydrunas Ilgauskas   C  33.0  CLE  65.0  65.0   \n",
       "Zydrunas Ilgauskas, 2010  2010  Zydrunas Ilgauskas   C  34.0  CLE  64.0   6.0   \n",
       "Zydrunas Ilgauskas, 2011  2011  Zydrunas Ilgauskas   C  35.0  MIA  72.0  51.0   \n",
       "\n",
       "                              MP   PER    TS%   3PAr    FTr  ORB%  DRB%  TRB%  \\\n",
       "Player, year                                                                    \n",
       "A.C. Green, 2000          1929.0  11.2  0.482  0.010  0.245   9.0  17.9  13.5   \n",
       "A.C. Green, 2001          1411.0  11.2  0.492  0.019  0.343   9.0  17.3  13.2   \n",
       "A.J. Bramlett, 2000         61.0  -0.4  0.190  0.000  0.000  21.7  18.5  20.1   \n",
       "A.J. Guyton, 2001          630.0  10.3  0.495  0.359  0.094   1.8   5.1   3.4   \n",
       "A.J. Guyton, 2002          607.0  11.8  0.477  0.504  0.111   2.3   6.3   4.2   \n",
       "...                          ...   ...    ...    ...    ...   ...   ...   ...   \n",
       "Zydrunas Ilgauskas, 2007  2130.0  18.0  0.527  0.001  0.242  12.9  20.0  16.4   \n",
       "Zydrunas Ilgauskas, 2008  2222.0  18.7  0.522  0.001  0.276  13.1  22.2  17.5   \n",
       "Zydrunas Ilgauskas, 2009  1765.0  18.0  0.523  0.054  0.240  11.0  21.6  16.5   \n",
       "Zydrunas Ilgauskas, 2010  1339.0  11.9  0.491  0.053  0.231  10.7  19.6  15.3   \n",
       "Zydrunas Ilgauskas, 2011  1145.0  12.8  0.531  0.003  0.144  11.9  17.5  14.9   \n",
       "\n",
       "                          AST%  STL%  BLK%  TOV%  USG%  OWS  DWS   WS  WS/48  \\\n",
       "Player, year                                                                   \n",
       "A.C. Green, 2000           5.9   1.4   0.7  11.0  11.0  1.7  3.3  5.0  0.124   \n",
       "A.C. Green, 2001           4.8   1.2   0.4  10.8  14.4  1.1  2.1  3.2  0.110   \n",
       "A.J. Bramlett, 2000        0.0   0.8   0.0  12.5  17.1 -0.2  0.1 -0.2 -0.129   \n",
       "A.J. Guyton, 2001         18.1   0.8   0.6  10.7  16.5  0.4 -0.1  0.3  0.020   \n",
       "A.J. Guyton, 2002         23.6   0.9   0.9  12.6  22.2  0.0  0.0  0.1  0.006   \n",
       "...                        ...   ...   ...   ...   ...  ...  ...  ...    ...   \n",
       "Zydrunas Ilgauskas, 2007  10.2   1.2   3.6  13.8  21.7  2.6  4.0  6.6  0.148   \n",
       "Zydrunas Ilgauskas, 2008   8.5   0.8   4.3  12.0  22.9  2.9  3.2  6.1  0.131   \n",
       "Zydrunas Ilgauskas, 2009   6.4   0.9   3.8  10.1  23.8  2.1  3.5  5.6  0.151   \n",
       "Zydrunas Ilgauskas, 2010   5.6   0.5   2.9  11.6  19.0  0.5  2.0  2.5  0.088   \n",
       "Zydrunas Ilgauskas, 2011   3.6   1.1   4.0  13.3  16.0  1.0  1.9  2.9  0.122   \n",
       "\n",
       "                          OBPM  DBPM   BPM  VORP     FG    FGA    FG%    3P  \\\n",
       "Player, year                                                                  \n",
       "A.C. Green, 2000          -2.0   1.8  -0.2   0.9  173.0  387.0  0.447   1.0   \n",
       "A.C. Green, 2001          -3.2   0.2  -3.0  -0.3  144.0  324.0  0.444   0.0   \n",
       "A.J. Bramlett, 2000      -10.5  -6.3 -16.8  -0.2    4.0   21.0  0.190   0.0   \n",
       "A.J. Guyton, 2001         -1.5  -4.4  -5.9  -0.6   78.0  192.0  0.406  27.0   \n",
       "A.J. Guyton, 2002         -0.3  -4.4  -4.7  -0.4   88.0  244.0  0.361  46.0   \n",
       "...                        ...   ...   ...   ...    ...    ...    ...   ...   \n",
       "Zydrunas Ilgauskas, 2007  -0.6   2.6   2.0   2.1  385.0  793.0  0.485   0.0   \n",
       "Zydrunas Ilgauskas, 2008  -1.3   1.2  -0.1   1.1  417.0  879.0  0.474   0.0   \n",
       "Zydrunas Ilgauskas, 2009  -1.9   1.0  -0.9   0.5  342.0  724.0  0.472  15.0   \n",
       "Zydrunas Ilgauskas, 2010  -3.3   0.2  -3.2  -0.4  194.0  438.0  0.443  11.0   \n",
       "Zydrunas Ilgauskas, 2011  -2.6   1.0  -1.5   0.1  162.0  319.0  0.508   0.0   \n",
       "\n",
       "                            3PA    3P%     2P    2PA    2P%   eFG%     FT  \\\n",
       "Player, year                                                                \n",
       "A.C. Green, 2000            4.0  0.250  172.0  383.0  0.449  0.448   66.0   \n",
       "A.C. Green, 2001            6.0  0.000  144.0  318.0  0.453  0.444   79.0   \n",
       "A.J. Bramlett, 2000         0.0    NaN    4.0   21.0  0.190  0.190    0.0   \n",
       "A.J. Guyton, 2001          69.0  0.391   51.0  123.0  0.415  0.477   15.0   \n",
       "A.J. Guyton, 2002         123.0  0.374   42.0  121.0  0.347  0.455   22.0   \n",
       "...                         ...    ...    ...    ...    ...    ...    ...   \n",
       "Zydrunas Ilgauskas, 2007    1.0  0.000  385.0  792.0  0.486  0.485  155.0   \n",
       "Zydrunas Ilgauskas, 2008    1.0  0.000  417.0  878.0  0.475  0.474  195.0   \n",
       "Zydrunas Ilgauskas, 2009   39.0  0.385  327.0  685.0  0.477  0.483  139.0   \n",
       "Zydrunas Ilgauskas, 2010   23.0  0.478  183.0  415.0  0.441  0.455   75.0   \n",
       "Zydrunas Ilgauskas, 2011    1.0  0.000  162.0  318.0  0.509  0.508   36.0   \n",
       "\n",
       "                            FTA    FT%    ORB    DRB    TRB    AST   STL  \\\n",
       "Player, year                                                               \n",
       "A.C. Green, 2000           95.0  0.695  160.0  326.0  486.0   80.0  53.0   \n",
       "A.C. Green, 2001          111.0  0.712  107.0  206.0  313.0   39.0  30.0   \n",
       "A.J. Bramlett, 2000         0.0    NaN   12.0   10.0   22.0    0.0   1.0   \n",
       "A.J. Guyton, 2001          18.0  0.833   10.0   26.0   36.0   64.0   9.0   \n",
       "A.J. Guyton, 2002          27.0  0.815   12.0   32.0   44.0   81.0  10.0   \n",
       "...                         ...    ...    ...    ...    ...    ...   ...   \n",
       "Zydrunas Ilgauskas, 2007  192.0  0.807  242.0  357.0  599.0  123.0  48.0   \n",
       "Zydrunas Ilgauskas, 2008  243.0  0.802  263.0  419.0  682.0  104.0  34.0   \n",
       "Zydrunas Ilgauskas, 2009  174.0  0.799  157.0  333.0  490.0   64.0  28.0   \n",
       "Zydrunas Ilgauskas, 2010  101.0  0.743  114.0  231.0  345.0   48.0  14.0   \n",
       "Zydrunas Ilgauskas, 2011   46.0  0.783  108.0  179.0  287.0   26.0  23.0   \n",
       "\n",
       "                            BLK    TOV     PF     PTS All-Star?  \\\n",
       "Player, year                                                      \n",
       "A.C. Green, 2000           18.0   53.0  127.0   413.0        No   \n",
       "A.C. Green, 2001            8.0   45.0  119.0   367.0        No   \n",
       "A.J. Bramlett, 2000         0.0    3.0   13.0     8.0        No   \n",
       "A.J. Guyton, 2001           5.0   24.0   35.0   198.0        No   \n",
       "A.J. Guyton, 2002           7.0   37.0   23.0   244.0        No   \n",
       "...                         ...    ...    ...     ...       ...   \n",
       "Zydrunas Ilgauskas, 2007   98.0  141.0  257.0   925.0        No   \n",
       "Zydrunas Ilgauskas, 2008  120.0  135.0  247.0  1029.0        No   \n",
       "Zydrunas Ilgauskas, 2009   84.0   90.0  183.0   838.0        No   \n",
       "Zydrunas Ilgauskas, 2010   50.0   63.0  183.0   474.0        No   \n",
       "Zydrunas Ilgauskas, 2011   58.0   52.0  185.0   360.0        No   \n",
       "\n",
       "                         Selection process  All-Star next season?  \n",
       "Player, year                                                       \n",
       "A.C. Green, 2000                       N/a                      0  \n",
       "A.C. Green, 2001                       N/a                      0  \n",
       "A.J. Bramlett, 2000                    N/a                      0  \n",
       "A.J. Guyton, 2001                      N/a                      0  \n",
       "A.J. Guyton, 2002                      N/a                      0  \n",
       "...                                    ...                    ...  \n",
       "Zydrunas Ilgauskas, 2007               N/a                      0  \n",
       "Zydrunas Ilgauskas, 2008               N/a                      0  \n",
       "Zydrunas Ilgauskas, 2009               N/a                      0  \n",
       "Zydrunas Ilgauskas, 2010               N/a                      0  \n",
       "Zydrunas Ilgauskas, 2011               N/a                      0  \n",
       "\n",
       "[7747 rows x 53 columns]"
      ],
      "text/html": "<div>\n<style scoped>\n    .dataframe tbody tr th:only-of-type {\n        vertical-align: middle;\n    }\n\n    .dataframe tbody tr th {\n        vertical-align: top;\n    }\n\n    .dataframe thead th {\n        text-align: right;\n    }\n</style>\n<table border=\"1\" class=\"dataframe\">\n  <thead>\n    <tr style=\"text-align: right;\">\n      <th></th>\n      <th>Year</th>\n      <th>Player</th>\n      <th>Pos</th>\n      <th>Age</th>\n      <th>Tm</th>\n      <th>G</th>\n      <th>GS</th>\n      <th>MP</th>\n      <th>PER</th>\n      <th>TS%</th>\n      <th>3PAr</th>\n      <th>FTr</th>\n      <th>ORB%</th>\n      <th>DRB%</th>\n      <th>TRB%</th>\n      <th>AST%</th>\n      <th>STL%</th>\n      <th>BLK%</th>\n      <th>TOV%</th>\n      <th>USG%</th>\n      <th>OWS</th>\n      <th>DWS</th>\n      <th>WS</th>\n      <th>WS/48</th>\n      <th>OBPM</th>\n      <th>DBPM</th>\n      <th>BPM</th>\n      <th>VORP</th>\n      <th>FG</th>\n      <th>FGA</th>\n      <th>FG%</th>\n      <th>3P</th>\n      <th>3PA</th>\n      <th>3P%</th>\n      <th>2P</th>\n      <th>2PA</th>\n      <th>2P%</th>\n      <th>eFG%</th>\n      <th>FT</th>\n      <th>FTA</th>\n      <th>FT%</th>\n      <th>ORB</th>\n      <th>DRB</th>\n      <th>TRB</th>\n      <th>AST</th>\n      <th>STL</th>\n      <th>BLK</th>\n      <th>TOV</th>\n      <th>PF</th>\n      <th>PTS</th>\n      <th>All-Star?</th>\n      <th>Selection process</th>\n      <th>All-Star next season?</th>\n    </tr>\n    <tr>\n      <th>Player, year</th>\n      <th></th>\n      <th></th>\n      <th></th>\n      <th></th>\n      <th></th>\n      <th></th>\n      <th></th>\n      <th></th>\n      <th></th>\n      <th></th>\n      <th></th>\n      <th></th>\n      <th></th>\n      <th></th>\n      <th></th>\n      <th></th>\n      <th></th>\n      <th></th>\n      <th></th>\n      <th></th>\n      <th></th>\n      <th></th>\n      <th></th>\n      <th></th>\n      <th></th>\n      <th></th>\n      <th></th>\n      <th></th>\n      <th></th>\n      <th></th>\n      <th></th>\n      <th></th>\n      <th></th>\n      <th></th>\n      <th></th>\n      <th></th>\n      <th></th>\n      <th></th>\n      <th></th>\n      <th></th>\n      <th></th>\n      <th></th>\n      <th></th>\n      <th></th>\n      <th></th>\n      <th></th>\n      <th></th>\n      <th></th>\n      <th></th>\n      <th></th>\n      <th></th>\n      <th></th>\n      <th></th>\n    </tr>\n  </thead>\n  <tbody>\n    <tr>\n      <th>A.C. Green, 2000</th>\n      <td>2000</td>\n      <td>A.C. Green</td>\n      <td>PF</td>\n      <td>36.0</td>\n      <td>LAL</td>\n      <td>82.0</td>\n      <td>82.0</td>\n      <td>1929.0</td>\n      <td>11.2</td>\n      <td>0.482</td>\n      <td>0.010</td>\n      <td>0.245</td>\n      <td>9.0</td>\n      <td>17.9</td>\n      <td>13.5</td>\n      <td>5.9</td>\n      <td>1.4</td>\n      <td>0.7</td>\n      <td>11.0</td>\n      <td>11.0</td>\n      <td>1.7</td>\n      <td>3.3</td>\n      <td>5.0</td>\n      <td>0.124</td>\n      <td>-2.0</td>\n      <td>1.8</td>\n      <td>-0.2</td>\n      <td>0.9</td>\n      <td>173.0</td>\n      <td>387.0</td>\n      <td>0.447</td>\n      <td>1.0</td>\n      <td>4.0</td>\n      <td>0.250</td>\n      <td>172.0</td>\n      <td>383.0</td>\n      <td>0.449</td>\n      <td>0.448</td>\n      <td>66.0</td>\n      <td>95.0</td>\n      <td>0.695</td>\n      <td>160.0</td>\n      <td>326.0</td>\n      <td>486.0</td>\n      <td>80.0</td>\n      <td>53.0</td>\n      <td>18.0</td>\n      <td>53.0</td>\n      <td>127.0</td>\n      <td>413.0</td>\n      <td>No</td>\n      <td>N/a</td>\n      <td>0</td>\n    </tr>\n    <tr>\n      <th>A.C. Green, 2001</th>\n      <td>2001</td>\n      <td>A.C. Green</td>\n      <td>PF</td>\n      <td>37.0</td>\n      <td>MIA</td>\n      <td>82.0</td>\n      <td>1.0</td>\n      <td>1411.0</td>\n      <td>11.2</td>\n      <td>0.492</td>\n      <td>0.019</td>\n      <td>0.343</td>\n      <td>9.0</td>\n      <td>17.3</td>\n      <td>13.2</td>\n      <td>4.8</td>\n      <td>1.2</td>\n      <td>0.4</td>\n      <td>10.8</td>\n      <td>14.4</td>\n      <td>1.1</td>\n      <td>2.1</td>\n      <td>3.2</td>\n      <td>0.110</td>\n      <td>-3.2</td>\n      <td>0.2</td>\n      <td>-3.0</td>\n      <td>-0.3</td>\n      <td>144.0</td>\n      <td>324.0</td>\n      <td>0.444</td>\n      <td>0.0</td>\n      <td>6.0</td>\n      <td>0.000</td>\n      <td>144.0</td>\n      <td>318.0</td>\n      <td>0.453</td>\n      <td>0.444</td>\n      <td>79.0</td>\n      <td>111.0</td>\n      <td>0.712</td>\n      <td>107.0</td>\n      <td>206.0</td>\n      <td>313.0</td>\n      <td>39.0</td>\n      <td>30.0</td>\n      <td>8.0</td>\n      <td>45.0</td>\n      <td>119.0</td>\n      <td>367.0</td>\n      <td>No</td>\n      <td>N/a</td>\n      <td>0</td>\n    </tr>\n    <tr>\n      <th>A.J. Bramlett, 2000</th>\n      <td>2000</td>\n      <td>A.J. Bramlett</td>\n      <td>C</td>\n      <td>23.0</td>\n      <td>CLE</td>\n      <td>8.0</td>\n      <td>0.0</td>\n      <td>61.0</td>\n      <td>-0.4</td>\n      <td>0.190</td>\n      <td>0.000</td>\n      <td>0.000</td>\n      <td>21.7</td>\n      <td>18.5</td>\n      <td>20.1</td>\n      <td>0.0</td>\n      <td>0.8</td>\n      <td>0.0</td>\n      <td>12.5</td>\n      <td>17.1</td>\n      <td>-0.2</td>\n      <td>0.1</td>\n      <td>-0.2</td>\n      <td>-0.129</td>\n      <td>-10.5</td>\n      <td>-6.3</td>\n      <td>-16.8</td>\n      <td>-0.2</td>\n      <td>4.0</td>\n      <td>21.0</td>\n      <td>0.190</td>\n      <td>0.0</td>\n      <td>0.0</td>\n      <td>NaN</td>\n      <td>4.0</td>\n      <td>21.0</td>\n      <td>0.190</td>\n      <td>0.190</td>\n      <td>0.0</td>\n      <td>0.0</td>\n      <td>NaN</td>\n      <td>12.0</td>\n      <td>10.0</td>\n      <td>22.0</td>\n      <td>0.0</td>\n      <td>1.0</td>\n      <td>0.0</td>\n      <td>3.0</td>\n      <td>13.0</td>\n      <td>8.0</td>\n      <td>No</td>\n      <td>N/a</td>\n      <td>0</td>\n    </tr>\n    <tr>\n      <th>A.J. Guyton, 2001</th>\n      <td>2001</td>\n      <td>A.J. Guyton</td>\n      <td>PG</td>\n      <td>22.0</td>\n      <td>CHI</td>\n      <td>33.0</td>\n      <td>8.0</td>\n      <td>630.0</td>\n      <td>10.3</td>\n      <td>0.495</td>\n      <td>0.359</td>\n      <td>0.094</td>\n      <td>1.8</td>\n      <td>5.1</td>\n      <td>3.4</td>\n      <td>18.1</td>\n      <td>0.8</td>\n      <td>0.6</td>\n      <td>10.7</td>\n      <td>16.5</td>\n      <td>0.4</td>\n      <td>-0.1</td>\n      <td>0.3</td>\n      <td>0.020</td>\n      <td>-1.5</td>\n      <td>-4.4</td>\n      <td>-5.9</td>\n      <td>-0.6</td>\n      <td>78.0</td>\n      <td>192.0</td>\n      <td>0.406</td>\n      <td>27.0</td>\n      <td>69.0</td>\n      <td>0.391</td>\n      <td>51.0</td>\n      <td>123.0</td>\n      <td>0.415</td>\n      <td>0.477</td>\n      <td>15.0</td>\n      <td>18.0</td>\n      <td>0.833</td>\n      <td>10.0</td>\n      <td>26.0</td>\n      <td>36.0</td>\n      <td>64.0</td>\n      <td>9.0</td>\n      <td>5.0</td>\n      <td>24.0</td>\n      <td>35.0</td>\n      <td>198.0</td>\n      <td>No</td>\n      <td>N/a</td>\n      <td>0</td>\n    </tr>\n    <tr>\n      <th>A.J. Guyton, 2002</th>\n      <td>2002</td>\n      <td>A.J. Guyton</td>\n      <td>PG</td>\n      <td>23.0</td>\n      <td>CHI</td>\n      <td>45.0</td>\n      <td>6.0</td>\n      <td>607.0</td>\n      <td>11.8</td>\n      <td>0.477</td>\n      <td>0.504</td>\n      <td>0.111</td>\n      <td>2.3</td>\n      <td>6.3</td>\n      <td>4.2</td>\n      <td>23.6</td>\n      <td>0.9</td>\n      <td>0.9</td>\n      <td>12.6</td>\n      <td>22.2</td>\n      <td>0.0</td>\n      <td>0.0</td>\n      <td>0.1</td>\n      <td>0.006</td>\n      <td>-0.3</td>\n      <td>-4.4</td>\n      <td>-4.7</td>\n      <td>-0.4</td>\n      <td>88.0</td>\n      <td>244.0</td>\n      <td>0.361</td>\n      <td>46.0</td>\n      <td>123.0</td>\n      <td>0.374</td>\n      <td>42.0</td>\n      <td>121.0</td>\n      <td>0.347</td>\n      <td>0.455</td>\n      <td>22.0</td>\n      <td>27.0</td>\n      <td>0.815</td>\n      <td>12.0</td>\n      <td>32.0</td>\n      <td>44.0</td>\n      <td>81.0</td>\n      <td>10.0</td>\n      <td>7.0</td>\n      <td>37.0</td>\n      <td>23.0</td>\n      <td>244.0</td>\n      <td>No</td>\n      <td>N/a</td>\n      <td>0</td>\n    </tr>\n    <tr>\n      <th>...</th>\n      <td>...</td>\n      <td>...</td>\n      <td>...</td>\n      <td>...</td>\n      <td>...</td>\n      <td>...</td>\n      <td>...</td>\n      <td>...</td>\n      <td>...</td>\n      <td>...</td>\n      <td>...</td>\n      <td>...</td>\n      <td>...</td>\n      <td>...</td>\n      <td>...</td>\n      <td>...</td>\n      <td>...</td>\n      <td>...</td>\n      <td>...</td>\n      <td>...</td>\n      <td>...</td>\n      <td>...</td>\n      <td>...</td>\n      <td>...</td>\n      <td>...</td>\n      <td>...</td>\n      <td>...</td>\n      <td>...</td>\n      <td>...</td>\n      <td>...</td>\n      <td>...</td>\n      <td>...</td>\n      <td>...</td>\n      <td>...</td>\n      <td>...</td>\n      <td>...</td>\n      <td>...</td>\n      <td>...</td>\n      <td>...</td>\n      <td>...</td>\n      <td>...</td>\n      <td>...</td>\n      <td>...</td>\n      <td>...</td>\n      <td>...</td>\n      <td>...</td>\n      <td>...</td>\n      <td>...</td>\n      <td>...</td>\n      <td>...</td>\n      <td>...</td>\n      <td>...</td>\n      <td>...</td>\n    </tr>\n    <tr>\n      <th>Zydrunas Ilgauskas, 2007</th>\n      <td>2007</td>\n      <td>Zydrunas Ilgauskas</td>\n      <td>C</td>\n      <td>31.0</td>\n      <td>CLE</td>\n      <td>78.0</td>\n      <td>78.0</td>\n      <td>2130.0</td>\n      <td>18.0</td>\n      <td>0.527</td>\n      <td>0.001</td>\n      <td>0.242</td>\n      <td>12.9</td>\n      <td>20.0</td>\n      <td>16.4</td>\n      <td>10.2</td>\n      <td>1.2</td>\n      <td>3.6</td>\n      <td>13.8</td>\n      <td>21.7</td>\n      <td>2.6</td>\n      <td>4.0</td>\n      <td>6.6</td>\n      <td>0.148</td>\n      <td>-0.6</td>\n      <td>2.6</td>\n      <td>2.0</td>\n      <td>2.1</td>\n      <td>385.0</td>\n      <td>793.0</td>\n      <td>0.485</td>\n      <td>0.0</td>\n      <td>1.0</td>\n      <td>0.000</td>\n      <td>385.0</td>\n      <td>792.0</td>\n      <td>0.486</td>\n      <td>0.485</td>\n      <td>155.0</td>\n      <td>192.0</td>\n      <td>0.807</td>\n      <td>242.0</td>\n      <td>357.0</td>\n      <td>599.0</td>\n      <td>123.0</td>\n      <td>48.0</td>\n      <td>98.0</td>\n      <td>141.0</td>\n      <td>257.0</td>\n      <td>925.0</td>\n      <td>No</td>\n      <td>N/a</td>\n      <td>0</td>\n    </tr>\n    <tr>\n      <th>Zydrunas Ilgauskas, 2008</th>\n      <td>2008</td>\n      <td>Zydrunas Ilgauskas</td>\n      <td>C</td>\n      <td>32.0</td>\n      <td>CLE</td>\n      <td>73.0</td>\n      <td>73.0</td>\n      <td>2222.0</td>\n      <td>18.7</td>\n      <td>0.522</td>\n      <td>0.001</td>\n      <td>0.276</td>\n      <td>13.1</td>\n      <td>22.2</td>\n      <td>17.5</td>\n      <td>8.5</td>\n      <td>0.8</td>\n      <td>4.3</td>\n      <td>12.0</td>\n      <td>22.9</td>\n      <td>2.9</td>\n      <td>3.2</td>\n      <td>6.1</td>\n      <td>0.131</td>\n      <td>-1.3</td>\n      <td>1.2</td>\n      <td>-0.1</td>\n      <td>1.1</td>\n      <td>417.0</td>\n      <td>879.0</td>\n      <td>0.474</td>\n      <td>0.0</td>\n      <td>1.0</td>\n      <td>0.000</td>\n      <td>417.0</td>\n      <td>878.0</td>\n      <td>0.475</td>\n      <td>0.474</td>\n      <td>195.0</td>\n      <td>243.0</td>\n      <td>0.802</td>\n      <td>263.0</td>\n      <td>419.0</td>\n      <td>682.0</td>\n      <td>104.0</td>\n      <td>34.0</td>\n      <td>120.0</td>\n      <td>135.0</td>\n      <td>247.0</td>\n      <td>1029.0</td>\n      <td>No</td>\n      <td>N/a</td>\n      <td>0</td>\n    </tr>\n    <tr>\n      <th>Zydrunas Ilgauskas, 2009</th>\n      <td>2009</td>\n      <td>Zydrunas Ilgauskas</td>\n      <td>C</td>\n      <td>33.0</td>\n      <td>CLE</td>\n      <td>65.0</td>\n      <td>65.0</td>\n      <td>1765.0</td>\n      <td>18.0</td>\n      <td>0.523</td>\n      <td>0.054</td>\n      <td>0.240</td>\n      <td>11.0</td>\n      <td>21.6</td>\n      <td>16.5</td>\n      <td>6.4</td>\n      <td>0.9</td>\n      <td>3.8</td>\n      <td>10.1</td>\n      <td>23.8</td>\n      <td>2.1</td>\n      <td>3.5</td>\n      <td>5.6</td>\n      <td>0.151</td>\n      <td>-1.9</td>\n      <td>1.0</td>\n      <td>-0.9</td>\n      <td>0.5</td>\n      <td>342.0</td>\n      <td>724.0</td>\n      <td>0.472</td>\n      <td>15.0</td>\n      <td>39.0</td>\n      <td>0.385</td>\n      <td>327.0</td>\n      <td>685.0</td>\n      <td>0.477</td>\n      <td>0.483</td>\n      <td>139.0</td>\n      <td>174.0</td>\n      <td>0.799</td>\n      <td>157.0</td>\n      <td>333.0</td>\n      <td>490.0</td>\n      <td>64.0</td>\n      <td>28.0</td>\n      <td>84.0</td>\n      <td>90.0</td>\n      <td>183.0</td>\n      <td>838.0</td>\n      <td>No</td>\n      <td>N/a</td>\n      <td>0</td>\n    </tr>\n    <tr>\n      <th>Zydrunas Ilgauskas, 2010</th>\n      <td>2010</td>\n      <td>Zydrunas Ilgauskas</td>\n      <td>C</td>\n      <td>34.0</td>\n      <td>CLE</td>\n      <td>64.0</td>\n      <td>6.0</td>\n      <td>1339.0</td>\n      <td>11.9</td>\n      <td>0.491</td>\n      <td>0.053</td>\n      <td>0.231</td>\n      <td>10.7</td>\n      <td>19.6</td>\n      <td>15.3</td>\n      <td>5.6</td>\n      <td>0.5</td>\n      <td>2.9</td>\n      <td>11.6</td>\n      <td>19.0</td>\n      <td>0.5</td>\n      <td>2.0</td>\n      <td>2.5</td>\n      <td>0.088</td>\n      <td>-3.3</td>\n      <td>0.2</td>\n      <td>-3.2</td>\n      <td>-0.4</td>\n      <td>194.0</td>\n      <td>438.0</td>\n      <td>0.443</td>\n      <td>11.0</td>\n      <td>23.0</td>\n      <td>0.478</td>\n      <td>183.0</td>\n      <td>415.0</td>\n      <td>0.441</td>\n      <td>0.455</td>\n      <td>75.0</td>\n      <td>101.0</td>\n      <td>0.743</td>\n      <td>114.0</td>\n      <td>231.0</td>\n      <td>345.0</td>\n      <td>48.0</td>\n      <td>14.0</td>\n      <td>50.0</td>\n      <td>63.0</td>\n      <td>183.0</td>\n      <td>474.0</td>\n      <td>No</td>\n      <td>N/a</td>\n      <td>0</td>\n    </tr>\n    <tr>\n      <th>Zydrunas Ilgauskas, 2011</th>\n      <td>2011</td>\n      <td>Zydrunas Ilgauskas</td>\n      <td>C</td>\n      <td>35.0</td>\n      <td>MIA</td>\n      <td>72.0</td>\n      <td>51.0</td>\n      <td>1145.0</td>\n      <td>12.8</td>\n      <td>0.531</td>\n      <td>0.003</td>\n      <td>0.144</td>\n      <td>11.9</td>\n      <td>17.5</td>\n      <td>14.9</td>\n      <td>3.6</td>\n      <td>1.1</td>\n      <td>4.0</td>\n      <td>13.3</td>\n      <td>16.0</td>\n      <td>1.0</td>\n      <td>1.9</td>\n      <td>2.9</td>\n      <td>0.122</td>\n      <td>-2.6</td>\n      <td>1.0</td>\n      <td>-1.5</td>\n      <td>0.1</td>\n      <td>162.0</td>\n      <td>319.0</td>\n      <td>0.508</td>\n      <td>0.0</td>\n      <td>1.0</td>\n      <td>0.000</td>\n      <td>162.0</td>\n      <td>318.0</td>\n      <td>0.509</td>\n      <td>0.508</td>\n      <td>36.0</td>\n      <td>46.0</td>\n      <td>0.783</td>\n      <td>108.0</td>\n      <td>179.0</td>\n      <td>287.0</td>\n      <td>26.0</td>\n      <td>23.0</td>\n      <td>58.0</td>\n      <td>52.0</td>\n      <td>185.0</td>\n      <td>360.0</td>\n      <td>No</td>\n      <td>N/a</td>\n      <td>0</td>\n    </tr>\n  </tbody>\n</table>\n<p>7747 rows × 53 columns</p>\n</div>"
     },
     "metadata": {},
     "execution_count": 410
    }
   ],
   "source": [
    "reindexed_master_df.drop(reindexed_master_df[reindexed_master_df[\"PER\"].isna()].index)"
   ]
  },
  {
   "cell_type": "code",
   "execution_count": 478,
   "metadata": {},
   "outputs": [
    {
     "output_type": "execute_result",
     "data": {
      "text/plain": [
       "array(['LAL', 'MIA', 'CLE', 'CHI', 'GSW', 'IND', 'WAS', 'MIN', 'TOT',\n",
       "       'HOU', 'ORL', 'NOH', 'TOR', 'CHO', 'PHI', 'NJN', 'LAC', 'ATL',\n",
       "       'UTA', 'CHA', 'BOS', 'DAL', 'NYK', 'DEN', 'NOP', 'POR', 'BRK',\n",
       "       'PHO', 'DET', 'SAS', 'MEM', 'SEA', 'OKC', 'SAC', 'MIL', 'CHH',\n",
       "       'VAN', 'NOK'], dtype=object)"
      ]
     },
     "metadata": {},
     "execution_count": 478
    }
   ],
   "source": [
    "reindexed_master_df[\"Tm\"].unique()"
   ]
  },
  {
   "source": [
    "## First attempt at KNN"
   ],
   "cell_type": "markdown",
   "metadata": {}
  },
  {
   "cell_type": "code",
   "execution_count": 411,
   "metadata": {},
   "outputs": [],
   "source": [
    "# Using features I am suspecting will have high correlation\n",
    "# 3 rows had NaNs in PER column (played < 5 games each)\n",
    "reindexed_master_df = reindexed_master_df.drop(reindexed_master_df[reindexed_master_df[\"PER\"].isna()].index)\n",
    "\n",
    "features = [\"Age\", \"PTS\", \"AST\", \"PER\"]\n",
    "\n",
    "X = reindexed_master_df[features]\n",
    "y = reindexed_master_df[\"All-Star next season?\"]\n",
    "\n",
    "X_train_val, X_test, y_train_val, y_test = train_test_split(X, y)\n",
    "X_train, X_val, y_train, y_val = train_test_split(X_train_val, y_train_val)"
   ]
  },
  {
   "cell_type": "code",
   "execution_count": 412,
   "metadata": {},
   "outputs": [],
   "source": [
    "# Scaling training set (for now) and testing set (for later)\n",
    "\n",
    "scaler = StandardScaler()\n",
    "X_train_scaled = scaler.fit_transform(X_train)\n",
    "X_val_scaled = scaler.transform(X_val)"
   ]
  },
  {
   "cell_type": "code",
   "execution_count": 477,
   "metadata": {
    "tags": []
   },
   "outputs": [
    {
     "output_type": "stream",
     "name": "stdout",
     "text": [
      "['2000', '2001', '2002', '2003', '2004', '2005', '2006', '2007', '2008', '2009', '2010', '2011', '2012', '2013', '2014', '2015', '2016']\nTop 24 most likely All-Stars in 2000: Kevin Garnett, Tim Duncan, Chris Webber, Karl Malone, Jerry Stackhouse, Steve Francis, Tracy McGrady, Keith Van, Terrell Brandon, Cuttino Mobley, Raef LaFrentz, Kenny Anderson, Reggie Miller, Steve Smith, Derrick Coleman, Ron Mercer, Tim Thomas, Bob Sura, Jason Williams, Tyrone Nesby, Marcus Camby, Lindsey Hunter, Malik Sealy, Shawn Bradley\nTop 24 most likely All-Stars in 2001: Tracy McGrady, Gary Payton, Lamar Odom, Andre Miller, Steve Nash, Jermaine O'Neal, Quentin Richardson, Clarence Weatherspoon, Voshon Lenard, Doug Christie, Chauncey Billups, Marc Jackson, Toni Kukoc, Brent Barry, Courtney Alexander, Shawn Bradley, Stromile Swift, Ricky Davis, Rick Fox, Howard Eisley, Jacque Vaughn, Glen Rice, Jamaal Magloire, Milt Palacio\nTop 24 most likely All-Stars in 2002: Shawn Marion, Rasheed Wallace, Cuttino Mobley, Jalen Rose, Jermaine O'Neal, Sam Cassell, Bonzi Wells, Brad Miller, Jason Richardson, Mike Bibby, Michael Redd, Shane Battier, Kerry Kittles, Donyell Marshall, Elden Campbell, Alvin Williams, Mike Penberthy, Chucky Atkins, Eddie Griffin, Bob Sura, Zydrunas Ilgauskas, Doug Christie, Malik Rose, Derek Anderson\nTop 24 most likely All-Stars in 2003: Allen Iverson, Tim Duncan, Stephon Marbury, Jermaine O'Neal, Gilbert Arenas, Steve Nash, Yao Ming, Rashard Lewis, Karl Malone, Andre Miller, Desmond Mason, Al Harrington, Stromile Swift, Corliss Williamson, Gordan Giricek, Jumaine Jones, Nick Van, Kenny Thomas, Raef LaFrentz, Jamaal Tinsley, Derek Fisher, Quentin Richardson, Marko Jaric, Manu Ginobili\nTop 24 most likely All-Stars in 2004: Dirk Nowitzki, Yao Ming, Mike Bibby, Shawn Marion, Jason Richardson, Carlos Boozer, Shareef Abdur-Rahim, Andre Miller, Gilbert Arenas, Brad Miller, Quentin Richardson, Jason Kidd, Darius Miles, Cuttino Mobley, Kirk Hinrich, Gary Payton, Kerry Kittles, Samuel Dalembert, Kendrick Perkins, Chris Wilcox, Antonio Daniels, Rafer Alston, Jeff McInnis, Rodney White\nTop 24 most likely All-Stars in 2005: Allen Iverson, Yao Ming, Michael Redd, Manu Ginobili, Ben Gordon, Tayshaun Prince, Jamal Crawford, Ricky Davis, Baron Davis, Caron Butler, Carlos Boozer, Donnell Harvey, Mike Dunleavy, Josh Smith, Josh Howard, Mo Williams, Hedo Turkoglu, Primoz Brezec, Shareef Abdur-Rahim, Udonis Haslem, Fred Jones, Trevor Ariza, Metta World, Chris Andersen\nTop 24 most likely All-Stars in 2006: Kobe Bryant, Dwyane Wade, Allen Iverson, Pau Gasol, Tony Parker, Mike Bibby, Rashard Lewis, Dwight Howard, Richard Jefferson, Richard Hamilton, Ricky Davis, Ben Gordon, Zach Randolph, Lamar Odom, Jermaine O'Neal, Brad Miller, Josh Howard, Tayshaun Prince, Zaza Pachulia, Sam Cassell, Stephon Marbury, Smush Parker, Bobby Simmons, Primoz Brezec\nTop 24 most likely All-Stars in 2007: Kobe Bryant, Carmelo Anthony, Dwyane Wade, Zach Randolph, Kevin Martin, Luol Deng, Leandro Barbosa, Joe Johnson, Baron Davis, Shawn Marion, Kirk Hinrich, Tayshaun Prince, David West, Ruben Patterson, Marvin Williams, Charlie Bell, Lamar Odom, Jamaal Tinsley, Chucky Atkins, Rafer Alston, Zydrunas Ilgauskas, Boris Diaw, Rajon Rondo, Nick Collison\nTop 24 most likely All-Stars in 2008: Chris Bosh, Baron Davis, Kevin Durant, Richard Jefferson, Kevin Martin, Manu Ginobili, Danny Granger, Antawn Jamison, Yao Ming, Caron Butler, Ian Mahinmi, Jose Calderon, Rashad McCants, Rajon Rondo, Lamar Odom, Al Horford, Thaddeus Young, Charlie Villanueva, Paul Millsap, Jameer Nelson, Brandon Bass, Luis Scola, Earl Watson, Sasha Vujacic\nTop 24 most likely All-Stars in 2009: LeBron James, Kevin Durant, Brandon Roy, Dwight Howard, Chris Bosh, Ben Gordon, Yao Ming, Vince Carter, Nate Robinson, Charlie Villanueva, Rajon Rondo, Ramon Sessions, Rashard Lewis, T.J. Ford, Emeka Okafor, Steve Nash, Andris Biedrins, Randy Foye, Stephen Jackson, Spencer Hawes, Jarrett Jack, Greg Oden, Roy Hibbert, Kendrick Perkins\nTop 24 most likely All-Stars in 2010: Kevin Durant, Dwight Howard, Zach Randolph, Monta Ellis, Joe Johnson, Rudy Gay, Carl Landry, Michael Beasley, Andray Blatche, Chris Kaman, Lou Williams, Al Harrington, Paul Pierce, Trevor Ariza, Troy Murphy, Spencer Hawes, Emeka Okafor, Jameer Nelson, Kyle Lowry, Ty Lawson, Jonas Jerebko, Courtney Lee, Jermaine O'Neal, Goran Dragic\nTop 24 most likely All-Stars in 2011: Dwyane Wade, LaMarcus Aldridge, Al Horford, Luol Deng, Manu Ginobili, Ramon Sessions, Ty Lawson, Lamar Odom, Nick Young, Andre Iguodala, Gerald Wallace, Chauncey Billups, JaVale McGee, Jason Richardson, Orien Greene, Ray Allen, Kris Humphries, Landry Fields, Tayshaun Prince, Tyler Hansbrough, Glen Davis, Ed Davis, Jodie Meeks, Tyrus Thomas\nTop 24 most likely All-Stars in 2012: DeMarcus Cousins, Andrew Bynum, Dwight Howard, David Lee, Marcin Gortat, Roy Hibbert, JaVale McGee, Carlos Boozer, Serge Ibaka, Kris Humphries, Jeremy Lin, Arron Afflalo, Stephen Curry, Jarrett Jack, Luol Deng, Nick Young, Danny Green, J.J. Redick, Kevin Seraphin, Jerryd Bayless, Kevin Martin, Brandon Bass, Chandler Parsons, Al Harrington\nTop 24 most likely All-Stars in 2013: Stephen Curry, Kobe Bryant, Blake Griffin, Deron Williams, Anthony Davis, Al Horford, Ty Lawson, Jeff Teague, Josh Smith, Thaddeus Young, Gordon Hayward, Chandler Parsons, Paul Pierce, Nikola Pekovic, Derrick Williams, Derrick Favors, Michael Kidd-Gilchrist, Ricky Rubio, Tiago Splitter, Patrick Patterson, Jonas Valanciunas, Jimmy Butler, Jerryd Bayless, Kevin Garnett\nTop 24 most likely All-Stars in 2014: Kevin Love, Chris Paul, Kyle Lowry, Monta Ellis, Brandon Knight, Serge Ibaka, Gordon Hayward, Paul Millsap, Kenneth Faried, Derrick Favors, Zach Randolph, Enes Kanter, Nicolas Batum, Jonas Valanciunas, Jodie Meeks, Kevin Martin, Tony Wroten, Tristan Thompson, Josh Smith, Taj Gibson, Joe Johnson, Pau Gasol, Jordan Crawford, Luol Deng\nTop 24 most likely All-Stars in 2015: James Harden, Blake Griffin, LaMarcus Aldridge, Gordon Hayward, Marc Gasol, Ty Lawson, Al Horford, Reggie Jackson, Kemba Walker, Goran Dragic, Mike Conley, Khris Middleton, Michael Carter-Williams, Draymond Green, Al Jefferson, Thaddeus Young, Elfrid Payton, Kentavious Caldwell-Pope, Jordan Clarkson, Derrick Rose, Marcin Gortat, Jeremy Lin, Wesley Matthews, Tyrus Thomas\nTop 24 most likely All-Stars in 2016: Andrew Wiggins, Giannis Antetokounmpo, Gordon Hayward, Nikola Vucevic, LaMarcus Aldridge, Al Horford, Thanasis Antetokounmpo, Dennis Schroder, Kenneth Faried, Kentavious Caldwell-Pope, Brandon Knight, Julius Randle, Nerlens Noel, Gary Harris, Otto Porter, Dirk Nowitzki, Ish Smith, Boban Marjanovic, Myles Turner, Mason Plumlee, Chandler Parsons, Rudy Gobert, Steven Adams, Robert Covington\n"
     ]
    }
   ],
   "source": [
    "# Picking All-Stars function (start)\n",
    " \n",
    "logr = LogisticRegression(penalty=\"none\")\n",
    "\n",
    "logr.fit(X_train_scaled, y_train)\n",
    "\n",
    "val_predictions = logr.predict(X_val_scaled)\n",
    "\n",
    "classification_report(y_val, val_predictions)\n",
    "\n",
    "prob_predictions = logr.predict_proba(X_val_scaled)\n",
    "prob_dict = dict(zip(list(X_val.index), list(prob_predictions)))\n",
    "\n",
    "years_list = [year.split(\", \")[1] for year in prob_dict.keys()]\n",
    "years_list = list(set(years_list))\n",
    "years_list.sort()\n",
    "\n",
    "for year in years_list:\n",
    "    eligible_players = [[player, list(chance)[1]] for player, chance in prob_dict.items() if player.split(\", \")[1] == year]\n",
    "    top_24 = [[player, chance] for player, chance in sorted(eligible_players, key=lambda item: item[1], reverse=True)][:24]\n",
    "    print(\"Top 24 most likely All-Stars in {}: {}\".format(year, (\", \".join([all_star[0].split(\", \")[0] for all_star in top_24]))))\n",
    "    \n",
    "    \n",
    "#top_20 = [[player, chance] for player, chance in sorted(prob_dict.items(), key=lambda item: item[1][1], reverse=True)][:20]\n",
    "#top_20"
   ]
  },
  {
   "cell_type": "code",
   "execution_count": 442,
   "metadata": {},
   "outputs": [
    {
     "output_type": "execute_result",
     "data": {
      "text/plain": [
       "Index(['Marty Conlon, 2000', 'Jeff Trepagnier, 2002', 'Oliver Miller, 2004',\n",
       "       'Stephen Graham, 2007', 'Jusuf Nurkic, 2015', 'Joel Anthony, 2014',\n",
       "       'Walter Herrmann, 2008', 'Nick Young, 2010', 'Henry Walker, 2010',\n",
       "       'Dan Langhi, 2002',\n",
       "       ...\n",
       "       'Greg Buckner, 2006', 'Khris Middleton, 2015', 'Patrick Ewing, 2011',\n",
       "       'Doug Christie, 2005', 'Arnett Moultrie, 2013', 'Felton Spencer, 2002',\n",
       "       'Mike Bibby, 2004', 'Matt Bonner, 2006', 'Mo Williams, 2014',\n",
       "       'Tony Battie, 2009'],\n",
       "      dtype='object', name='Player, year', length=1453)"
      ]
     },
     "metadata": {},
     "execution_count": 442
    }
   ],
   "source": [
    "X_val.index"
   ]
  },
  {
   "cell_type": "code",
   "execution_count": 427,
   "metadata": {},
   "outputs": [
    {
     "output_type": "display_data",
     "data": {
      "text/plain": "<Figure size 504x504 with 2 Axes>",
      "image/svg+xml": "<?xml version=\"1.0\" encoding=\"utf-8\" standalone=\"no\"?>\n<!DOCTYPE svg PUBLIC \"-//W3C//DTD SVG 1.1//EN\"\n  \"http://www.w3.org/Graphics/SVG/1.1/DTD/svg11.dtd\">\n<!-- Created with matplotlib (https://matplotlib.org/) -->\n<svg height=\"394.92pt\" version=\"1.1\" viewBox=\"0 0 424.926625 394.92\" width=\"424.926625pt\" xmlns=\"http://www.w3.org/2000/svg\" xmlns:xlink=\"http://www.w3.org/1999/xlink\">\n <metadata>\n  <rdf:RDF xmlns:cc=\"http://creativecommons.org/ns#\" xmlns:dc=\"http://purl.org/dc/elements/1.1/\" xmlns:rdf=\"http://www.w3.org/1999/02/22-rdf-syntax-ns#\">\n   <cc:Work>\n    <dc:type rdf:resource=\"http://purl.org/dc/dcmitype/StillImage\"/>\n    <dc:date>2020-10-14T23:24:06.676114</dc:date>\n    <dc:format>image/svg+xml</dc:format>\n    <dc:creator>\n     <cc:Agent>\n      <dc:title>Matplotlib v3.3.2, https://matplotlib.org/</dc:title>\n     </cc:Agent>\n    </dc:creator>\n   </cc:Work>\n  </rdf:RDF>\n </metadata>\n <defs>\n  <style type=\"text/css\">*{stroke-linecap:butt;stroke-linejoin:round;}</style>\n </defs>\n <g id=\"figure_1\">\n  <g id=\"patch_1\">\n   <path d=\"M 0 394.92 \nL 424.926625 394.92 \nL 424.926625 -0 \nL 0 -0 \nz\n\" style=\"fill:none;\"/>\n  </g>\n  <g id=\"axes_1\">\n   <g id=\"patch_2\">\n    <path d=\"M 34.240625 353.7 \nL 346.720625 353.7 \nL 346.720625 41.22 \nL 34.240625 41.22 \nz\n\" style=\"fill:#ffffff;\"/>\n   </g>\n   <g clip-path=\"url(#p2af8d4279a)\">\n    <image height=\"313\" id=\"image940b37b48a\" transform=\"scale(1 -1)translate(0 -313)\" width=\"313\" x=\"34.240625\" xlink:href=\"data:image/png;base64,\niVBORw0KGgoAAAANSUhEUgAAATkAAAE5CAYAAADr4VfxAAAEOElEQVR4nO3WQRHCQAAEQYIABPBGACpAR9QjIS/qUEGuaq5bwb6mdnvd9nGBk4zjmD2BxVxnDwD4J5ED0kQOSBM5IE3kgDSRA9JEDkgTOSBN5IA0kQPSRA5IEzkgTeSANJED0kQOSBM5IE3kgDSRA9JEDkgTOSBN5IA0kQPSRA5IEzkgTeSANJED0kQOSBM5IE3kgDSRA9JEDkgTOSBN5IA0kQPSRA5IEzkgTeSANJED0kQOSBM5IE3kgDSRA9JEDkgTOSBN5IA0kQPSRA5IEzkgTeSANJED0kQOSBM5IE3kgDSRA9JEDkgTOSBN5IA0kQPSRA5IEzkgTeSANJED0kQOSBM5IE3kgDSRA9JEDkgTOSBN5IA0kQPSRA5IEzkgTeSANJED0kQOSBM5IE3kgDSRA9JEDkgTOSBN5IA0kQPSRA5IEzkgTeSANJED0kQOSBM5IE3kgDSRA9JEDkgTOSBN5IA0kQPSRA5IEzkgTeSANJED0kQOSBM5IE3kgDSRA9JEDkgTOSBN5IA0kQPSRA5IEzkgTeSANJED0kQOSBM5IE3kgDSRA9JEDkgTOSBN5IA0kQPSRA5IEzkgTeSANJED0kQOSBM5IE3kgDSRA9JEDkgTOSBN5IA0kQPSRA5IEzkgTeSANJED0kQOSBM5IE3kgDSRA9JEDkgTOSBN5IA0kQPSRA5IEzkgTeSANJED0kQOSBM5IE3kgDSRA9JEDkgTOSBN5IA0kQPSRA5IEzkgbft+HmP2CNbxvj9nT2AxnhyQJnJAmsgBaSIHpIkckCZyQJrIAWkiB6SJHJAmckCayAFpIgekiRyQJnJAmsgBaSIHpIkckCZyQJrIAWkiB6SJHJAmckCayAFpIgekiRyQJnJAmsgBaSIHpIkckCZyQJrIAWkiB6SJHJAmckCayAFpIgekiRyQJnJAmsgBaSIHpIkckCZyQJrIAWkiB6SJHJAmckCayAFpIgekiRyQJnJAmsgBaSIHpIkckCZyQJrIAWkiB6SJHJAmckCayAFpIgekiRyQJnJAmsgBaSIHpIkckCZyQJrIAWkiB6SJHJAmckCayAFpIgekiRyQJnJAmsgBaSIHpIkckCZyQJrIAWkiB6SJHJAmckCayAFpIgekiRyQJnJAmsgBaSIHpIkckCZyQJrIAWkiB6SJHJAmckCayAFpIgekiRyQJnJAmsgBaSIHpIkckCZyQJrIAWkiB6SJHJAmckCayAFpIgekiRyQJnJAmsgBaSIHpIkckCZyQJrIAWkiB6SJHJAmckCayAFpIgekiRyQJnJAmsgBaSIHpIkckCZyQJrIAWkiB6SJHJAmckCayAFpIgekiRyQJnJAmsgBaSIHpIkckCZyQJrIAWkiB6SJHJAmckCayAFpIgekiRyQJnJAmsgBaSIHpIkckCZyQJrIAWkiB6SJHJAmckCayAFpP50pCqp61iA6AAAAAElFTkSuQmCC\" y=\"-40.7\"/>\n   </g>\n   <g id=\"matplotlib.axis_1\">\n    <g id=\"xtick_1\">\n     <g id=\"line2d_1\">\n      <defs>\n       <path d=\"M 0 0 \nL 0 3.5 \n\" id=\"m7788e63a87\" style=\"stroke:#000000;stroke-width:0.8;\"/>\n      </defs>\n      <g>\n       <use style=\"stroke:#000000;stroke-width:0.8;\" x=\"112.360625\" xlink:href=\"#m7788e63a87\" y=\"353.7\"/>\n      </g>\n     </g>\n     <g id=\"text_1\">\n      <!-- 0 -->\n      <g transform=\"translate(109.179375 368.298437)scale(0.1 -0.1)\">\n       <defs>\n        <path d=\"M 31.78125 66.40625 \nQ 24.171875 66.40625 20.328125 58.90625 \nQ 16.5 51.421875 16.5 36.375 \nQ 16.5 21.390625 20.328125 13.890625 \nQ 24.171875 6.390625 31.78125 6.390625 \nQ 39.453125 6.390625 43.28125 13.890625 \nQ 47.125 21.390625 47.125 36.375 \nQ 47.125 51.421875 43.28125 58.90625 \nQ 39.453125 66.40625 31.78125 66.40625 \nz\nM 31.78125 74.21875 \nQ 44.046875 74.21875 50.515625 64.515625 \nQ 56.984375 54.828125 56.984375 36.375 \nQ 56.984375 17.96875 50.515625 8.265625 \nQ 44.046875 -1.421875 31.78125 -1.421875 \nQ 19.53125 -1.421875 13.0625 8.265625 \nQ 6.59375 17.96875 6.59375 36.375 \nQ 6.59375 54.828125 13.0625 64.515625 \nQ 19.53125 74.21875 31.78125 74.21875 \nz\n\" id=\"DejaVuSans-48\"/>\n       </defs>\n       <use xlink:href=\"#DejaVuSans-48\"/>\n      </g>\n     </g>\n    </g>\n    <g id=\"xtick_2\">\n     <g id=\"line2d_2\">\n      <g>\n       <use style=\"stroke:#000000;stroke-width:0.8;\" x=\"268.600625\" xlink:href=\"#m7788e63a87\" y=\"353.7\"/>\n      </g>\n     </g>\n     <g id=\"text_2\">\n      <!-- 1 -->\n      <g transform=\"translate(265.419375 368.298437)scale(0.1 -0.1)\">\n       <defs>\n        <path d=\"M 12.40625 8.296875 \nL 28.515625 8.296875 \nL 28.515625 63.921875 \nL 10.984375 60.40625 \nL 10.984375 69.390625 \nL 28.421875 72.90625 \nL 38.28125 72.90625 \nL 38.28125 8.296875 \nL 54.390625 8.296875 \nL 54.390625 0 \nL 12.40625 0 \nz\n\" id=\"DejaVuSans-49\"/>\n       </defs>\n       <use xlink:href=\"#DejaVuSans-49\"/>\n      </g>\n     </g>\n    </g>\n    <g id=\"text_3\">\n     <!-- Predicted label -->\n     <g transform=\"translate(153.328281 381.976562)scale(0.1 -0.1)\">\n      <defs>\n       <path d=\"M 19.671875 64.796875 \nL 19.671875 37.40625 \nL 32.078125 37.40625 \nQ 38.96875 37.40625 42.71875 40.96875 \nQ 46.484375 44.53125 46.484375 51.125 \nQ 46.484375 57.671875 42.71875 61.234375 \nQ 38.96875 64.796875 32.078125 64.796875 \nz\nM 9.8125 72.90625 \nL 32.078125 72.90625 \nQ 44.34375 72.90625 50.609375 67.359375 \nQ 56.890625 61.8125 56.890625 51.125 \nQ 56.890625 40.328125 50.609375 34.8125 \nQ 44.34375 29.296875 32.078125 29.296875 \nL 19.671875 29.296875 \nL 19.671875 0 \nL 9.8125 0 \nz\n\" id=\"DejaVuSans-80\"/>\n       <path d=\"M 41.109375 46.296875 \nQ 39.59375 47.171875 37.8125 47.578125 \nQ 36.03125 48 33.890625 48 \nQ 26.265625 48 22.1875 43.046875 \nQ 18.109375 38.09375 18.109375 28.8125 \nL 18.109375 0 \nL 9.078125 0 \nL 9.078125 54.6875 \nL 18.109375 54.6875 \nL 18.109375 46.1875 \nQ 20.953125 51.171875 25.484375 53.578125 \nQ 30.03125 56 36.53125 56 \nQ 37.453125 56 38.578125 55.875 \nQ 39.703125 55.765625 41.0625 55.515625 \nz\n\" id=\"DejaVuSans-114\"/>\n       <path d=\"M 56.203125 29.59375 \nL 56.203125 25.203125 \nL 14.890625 25.203125 \nQ 15.484375 15.921875 20.484375 11.0625 \nQ 25.484375 6.203125 34.421875 6.203125 \nQ 39.59375 6.203125 44.453125 7.46875 \nQ 49.3125 8.734375 54.109375 11.28125 \nL 54.109375 2.78125 \nQ 49.265625 0.734375 44.1875 -0.34375 \nQ 39.109375 -1.421875 33.890625 -1.421875 \nQ 20.796875 -1.421875 13.15625 6.1875 \nQ 5.515625 13.8125 5.515625 26.8125 \nQ 5.515625 40.234375 12.765625 48.109375 \nQ 20.015625 56 32.328125 56 \nQ 43.359375 56 49.78125 48.890625 \nQ 56.203125 41.796875 56.203125 29.59375 \nz\nM 47.21875 32.234375 \nQ 47.125 39.59375 43.09375 43.984375 \nQ 39.0625 48.390625 32.421875 48.390625 \nQ 24.90625 48.390625 20.390625 44.140625 \nQ 15.875 39.890625 15.1875 32.171875 \nz\n\" id=\"DejaVuSans-101\"/>\n       <path d=\"M 45.40625 46.390625 \nL 45.40625 75.984375 \nL 54.390625 75.984375 \nL 54.390625 0 \nL 45.40625 0 \nL 45.40625 8.203125 \nQ 42.578125 3.328125 38.25 0.953125 \nQ 33.9375 -1.421875 27.875 -1.421875 \nQ 17.96875 -1.421875 11.734375 6.484375 \nQ 5.515625 14.40625 5.515625 27.296875 \nQ 5.515625 40.1875 11.734375 48.09375 \nQ 17.96875 56 27.875 56 \nQ 33.9375 56 38.25 53.625 \nQ 42.578125 51.265625 45.40625 46.390625 \nz\nM 14.796875 27.296875 \nQ 14.796875 17.390625 18.875 11.75 \nQ 22.953125 6.109375 30.078125 6.109375 \nQ 37.203125 6.109375 41.296875 11.75 \nQ 45.40625 17.390625 45.40625 27.296875 \nQ 45.40625 37.203125 41.296875 42.84375 \nQ 37.203125 48.484375 30.078125 48.484375 \nQ 22.953125 48.484375 18.875 42.84375 \nQ 14.796875 37.203125 14.796875 27.296875 \nz\n\" id=\"DejaVuSans-100\"/>\n       <path d=\"M 9.421875 54.6875 \nL 18.40625 54.6875 \nL 18.40625 0 \nL 9.421875 0 \nz\nM 9.421875 75.984375 \nL 18.40625 75.984375 \nL 18.40625 64.59375 \nL 9.421875 64.59375 \nz\n\" id=\"DejaVuSans-105\"/>\n       <path d=\"M 48.78125 52.59375 \nL 48.78125 44.1875 \nQ 44.96875 46.296875 41.140625 47.34375 \nQ 37.3125 48.390625 33.40625 48.390625 \nQ 24.65625 48.390625 19.8125 42.84375 \nQ 14.984375 37.3125 14.984375 27.296875 \nQ 14.984375 17.28125 19.8125 11.734375 \nQ 24.65625 6.203125 33.40625 6.203125 \nQ 37.3125 6.203125 41.140625 7.25 \nQ 44.96875 8.296875 48.78125 10.40625 \nL 48.78125 2.09375 \nQ 45.015625 0.34375 40.984375 -0.53125 \nQ 36.96875 -1.421875 32.421875 -1.421875 \nQ 20.0625 -1.421875 12.78125 6.34375 \nQ 5.515625 14.109375 5.515625 27.296875 \nQ 5.515625 40.671875 12.859375 48.328125 \nQ 20.21875 56 33.015625 56 \nQ 37.15625 56 41.109375 55.140625 \nQ 45.0625 54.296875 48.78125 52.59375 \nz\n\" id=\"DejaVuSans-99\"/>\n       <path d=\"M 18.3125 70.21875 \nL 18.3125 54.6875 \nL 36.8125 54.6875 \nL 36.8125 47.703125 \nL 18.3125 47.703125 \nL 18.3125 18.015625 \nQ 18.3125 11.328125 20.140625 9.421875 \nQ 21.96875 7.515625 27.59375 7.515625 \nL 36.8125 7.515625 \nL 36.8125 0 \nL 27.59375 0 \nQ 17.1875 0 13.234375 3.875 \nQ 9.28125 7.765625 9.28125 18.015625 \nL 9.28125 47.703125 \nL 2.6875 47.703125 \nL 2.6875 54.6875 \nL 9.28125 54.6875 \nL 9.28125 70.21875 \nz\n\" id=\"DejaVuSans-116\"/>\n       <path id=\"DejaVuSans-32\"/>\n       <path d=\"M 9.421875 75.984375 \nL 18.40625 75.984375 \nL 18.40625 0 \nL 9.421875 0 \nz\n\" id=\"DejaVuSans-108\"/>\n       <path d=\"M 34.28125 27.484375 \nQ 23.390625 27.484375 19.1875 25 \nQ 14.984375 22.515625 14.984375 16.5 \nQ 14.984375 11.71875 18.140625 8.90625 \nQ 21.296875 6.109375 26.703125 6.109375 \nQ 34.1875 6.109375 38.703125 11.40625 \nQ 43.21875 16.703125 43.21875 25.484375 \nL 43.21875 27.484375 \nz\nM 52.203125 31.203125 \nL 52.203125 0 \nL 43.21875 0 \nL 43.21875 8.296875 \nQ 40.140625 3.328125 35.546875 0.953125 \nQ 30.953125 -1.421875 24.3125 -1.421875 \nQ 15.921875 -1.421875 10.953125 3.296875 \nQ 6 8.015625 6 15.921875 \nQ 6 25.140625 12.171875 29.828125 \nQ 18.359375 34.515625 30.609375 34.515625 \nL 43.21875 34.515625 \nL 43.21875 35.40625 \nQ 43.21875 41.609375 39.140625 45 \nQ 35.0625 48.390625 27.6875 48.390625 \nQ 23 48.390625 18.546875 47.265625 \nQ 14.109375 46.140625 10.015625 43.890625 \nL 10.015625 52.203125 \nQ 14.9375 54.109375 19.578125 55.046875 \nQ 24.21875 56 28.609375 56 \nQ 40.484375 56 46.34375 49.84375 \nQ 52.203125 43.703125 52.203125 31.203125 \nz\n\" id=\"DejaVuSans-97\"/>\n       <path d=\"M 48.6875 27.296875 \nQ 48.6875 37.203125 44.609375 42.84375 \nQ 40.53125 48.484375 33.40625 48.484375 \nQ 26.265625 48.484375 22.1875 42.84375 \nQ 18.109375 37.203125 18.109375 27.296875 \nQ 18.109375 17.390625 22.1875 11.75 \nQ 26.265625 6.109375 33.40625 6.109375 \nQ 40.53125 6.109375 44.609375 11.75 \nQ 48.6875 17.390625 48.6875 27.296875 \nz\nM 18.109375 46.390625 \nQ 20.953125 51.265625 25.265625 53.625 \nQ 29.59375 56 35.59375 56 \nQ 45.5625 56 51.78125 48.09375 \nQ 58.015625 40.1875 58.015625 27.296875 \nQ 58.015625 14.40625 51.78125 6.484375 \nQ 45.5625 -1.421875 35.59375 -1.421875 \nQ 29.59375 -1.421875 25.265625 0.953125 \nQ 20.953125 3.328125 18.109375 8.203125 \nL 18.109375 0 \nL 9.078125 0 \nL 9.078125 75.984375 \nL 18.109375 75.984375 \nz\n\" id=\"DejaVuSans-98\"/>\n      </defs>\n      <use xlink:href=\"#DejaVuSans-80\"/>\n      <use x=\"58.552734\" xlink:href=\"#DejaVuSans-114\"/>\n      <use x=\"97.416016\" xlink:href=\"#DejaVuSans-101\"/>\n      <use x=\"158.939453\" xlink:href=\"#DejaVuSans-100\"/>\n      <use x=\"222.416016\" xlink:href=\"#DejaVuSans-105\"/>\n      <use x=\"250.199219\" xlink:href=\"#DejaVuSans-99\"/>\n      <use x=\"305.179688\" xlink:href=\"#DejaVuSans-116\"/>\n      <use x=\"344.388672\" xlink:href=\"#DejaVuSans-101\"/>\n      <use x=\"405.912109\" xlink:href=\"#DejaVuSans-100\"/>\n      <use x=\"469.388672\" xlink:href=\"#DejaVuSans-32\"/>\n      <use x=\"501.175781\" xlink:href=\"#DejaVuSans-108\"/>\n      <use x=\"528.958984\" xlink:href=\"#DejaVuSans-97\"/>\n      <use x=\"590.238281\" xlink:href=\"#DejaVuSans-98\"/>\n      <use x=\"653.714844\" xlink:href=\"#DejaVuSans-101\"/>\n      <use x=\"715.238281\" xlink:href=\"#DejaVuSans-108\"/>\n     </g>\n    </g>\n   </g>\n   <g id=\"matplotlib.axis_2\">\n    <g id=\"ytick_1\">\n     <g id=\"line2d_3\">\n      <defs>\n       <path d=\"M 0 0 \nL -3.5 0 \n\" id=\"m2c9a41bf16\" style=\"stroke:#000000;stroke-width:0.8;\"/>\n      </defs>\n      <g>\n       <use style=\"stroke:#000000;stroke-width:0.8;\" x=\"34.240625\" xlink:href=\"#m2c9a41bf16\" y=\"119.34\"/>\n      </g>\n     </g>\n     <g id=\"text_4\">\n      <!-- 0 -->\n      <g transform=\"translate(20.878125 123.139219)scale(0.1 -0.1)\">\n       <use xlink:href=\"#DejaVuSans-48\"/>\n      </g>\n     </g>\n    </g>\n    <g id=\"ytick_2\">\n     <g id=\"line2d_4\">\n      <g>\n       <use style=\"stroke:#000000;stroke-width:0.8;\" x=\"34.240625\" xlink:href=\"#m2c9a41bf16\" y=\"275.58\"/>\n      </g>\n     </g>\n     <g id=\"text_5\">\n      <!-- 1 -->\n      <g transform=\"translate(20.878125 279.379219)scale(0.1 -0.1)\">\n       <use xlink:href=\"#DejaVuSans-49\"/>\n      </g>\n     </g>\n    </g>\n    <g id=\"text_6\">\n     <!-- True label -->\n     <g transform=\"translate(14.798437 221.759219)rotate(-90)scale(0.1 -0.1)\">\n      <defs>\n       <path d=\"M -0.296875 72.90625 \nL 61.375 72.90625 \nL 61.375 64.59375 \nL 35.5 64.59375 \nL 35.5 0 \nL 25.59375 0 \nL 25.59375 64.59375 \nL -0.296875 64.59375 \nz\n\" id=\"DejaVuSans-84\"/>\n       <path d=\"M 8.5 21.578125 \nL 8.5 54.6875 \nL 17.484375 54.6875 \nL 17.484375 21.921875 \nQ 17.484375 14.15625 20.5 10.265625 \nQ 23.53125 6.390625 29.59375 6.390625 \nQ 36.859375 6.390625 41.078125 11.03125 \nQ 45.3125 15.671875 45.3125 23.6875 \nL 45.3125 54.6875 \nL 54.296875 54.6875 \nL 54.296875 0 \nL 45.3125 0 \nL 45.3125 8.40625 \nQ 42.046875 3.421875 37.71875 1 \nQ 33.40625 -1.421875 27.6875 -1.421875 \nQ 18.265625 -1.421875 13.375 4.4375 \nQ 8.5 10.296875 8.5 21.578125 \nz\nM 31.109375 56 \nz\n\" id=\"DejaVuSans-117\"/>\n      </defs>\n      <use xlink:href=\"#DejaVuSans-84\"/>\n      <use x=\"46.333984\" xlink:href=\"#DejaVuSans-114\"/>\n      <use x=\"87.447266\" xlink:href=\"#DejaVuSans-117\"/>\n      <use x=\"150.826172\" xlink:href=\"#DejaVuSans-101\"/>\n      <use x=\"212.349609\" xlink:href=\"#DejaVuSans-32\"/>\n      <use x=\"244.136719\" xlink:href=\"#DejaVuSans-108\"/>\n      <use x=\"271.919922\" xlink:href=\"#DejaVuSans-97\"/>\n      <use x=\"333.199219\" xlink:href=\"#DejaVuSans-98\"/>\n      <use x=\"396.675781\" xlink:href=\"#DejaVuSans-101\"/>\n      <use x=\"458.199219\" xlink:href=\"#DejaVuSans-108\"/>\n     </g>\n    </g>\n   </g>\n   <g id=\"patch_3\">\n    <path d=\"M 34.240625 353.7 \nL 34.240625 41.22 \n\" style=\"fill:none;stroke:#000000;stroke-linecap:square;stroke-linejoin:miter;stroke-width:0.8;\"/>\n   </g>\n   <g id=\"patch_4\">\n    <path d=\"M 346.720625 353.7 \nL 346.720625 41.22 \n\" style=\"fill:none;stroke:#000000;stroke-linecap:square;stroke-linejoin:miter;stroke-width:0.8;\"/>\n   </g>\n   <g id=\"patch_5\">\n    <path d=\"M 34.240625 353.7 \nL 346.720625 353.7 \n\" style=\"fill:none;stroke:#000000;stroke-linecap:square;stroke-linejoin:miter;stroke-width:0.8;\"/>\n   </g>\n   <g id=\"patch_6\">\n    <path d=\"M 34.240625 41.22 \nL 346.720625 41.22 \n\" style=\"fill:none;stroke:#000000;stroke-linecap:square;stroke-linejoin:miter;stroke-width:0.8;\"/>\n   </g>\n   <g id=\"text_7\">\n    <!-- 1368 -->\n    <g style=\"fill:#440154;\" transform=\"translate(99.635625 122.099375)scale(0.1 -0.1)\">\n     <defs>\n      <path d=\"M 40.578125 39.3125 \nQ 47.65625 37.796875 51.625 33 \nQ 55.609375 28.21875 55.609375 21.1875 \nQ 55.609375 10.40625 48.1875 4.484375 \nQ 40.765625 -1.421875 27.09375 -1.421875 \nQ 22.515625 -1.421875 17.65625 -0.515625 \nQ 12.796875 0.390625 7.625 2.203125 \nL 7.625 11.71875 \nQ 11.71875 9.328125 16.59375 8.109375 \nQ 21.484375 6.890625 26.8125 6.890625 \nQ 36.078125 6.890625 40.9375 10.546875 \nQ 45.796875 14.203125 45.796875 21.1875 \nQ 45.796875 27.640625 41.28125 31.265625 \nQ 36.765625 34.90625 28.71875 34.90625 \nL 20.21875 34.90625 \nL 20.21875 43.015625 \nL 29.109375 43.015625 \nQ 36.375 43.015625 40.234375 45.921875 \nQ 44.09375 48.828125 44.09375 54.296875 \nQ 44.09375 59.90625 40.109375 62.90625 \nQ 36.140625 65.921875 28.71875 65.921875 \nQ 24.65625 65.921875 20.015625 65.03125 \nQ 15.375 64.15625 9.8125 62.3125 \nL 9.8125 71.09375 \nQ 15.4375 72.65625 20.34375 73.4375 \nQ 25.25 74.21875 29.59375 74.21875 \nQ 40.828125 74.21875 47.359375 69.109375 \nQ 53.90625 64.015625 53.90625 55.328125 \nQ 53.90625 49.265625 50.4375 45.09375 \nQ 46.96875 40.921875 40.578125 39.3125 \nz\n\" id=\"DejaVuSans-51\"/>\n      <path d=\"M 33.015625 40.375 \nQ 26.375 40.375 22.484375 35.828125 \nQ 18.609375 31.296875 18.609375 23.390625 \nQ 18.609375 15.53125 22.484375 10.953125 \nQ 26.375 6.390625 33.015625 6.390625 \nQ 39.65625 6.390625 43.53125 10.953125 \nQ 47.40625 15.53125 47.40625 23.390625 \nQ 47.40625 31.296875 43.53125 35.828125 \nQ 39.65625 40.375 33.015625 40.375 \nz\nM 52.59375 71.296875 \nL 52.59375 62.3125 \nQ 48.875 64.0625 45.09375 64.984375 \nQ 41.3125 65.921875 37.59375 65.921875 \nQ 27.828125 65.921875 22.671875 59.328125 \nQ 17.53125 52.734375 16.796875 39.40625 \nQ 19.671875 43.65625 24.015625 45.921875 \nQ 28.375 48.1875 33.59375 48.1875 \nQ 44.578125 48.1875 50.953125 41.515625 \nQ 57.328125 34.859375 57.328125 23.390625 \nQ 57.328125 12.15625 50.6875 5.359375 \nQ 44.046875 -1.421875 33.015625 -1.421875 \nQ 20.359375 -1.421875 13.671875 8.265625 \nQ 6.984375 17.96875 6.984375 36.375 \nQ 6.984375 53.65625 15.1875 63.9375 \nQ 23.390625 74.21875 37.203125 74.21875 \nQ 40.921875 74.21875 44.703125 73.484375 \nQ 48.484375 72.75 52.59375 71.296875 \nz\n\" id=\"DejaVuSans-54\"/>\n      <path d=\"M 31.78125 34.625 \nQ 24.75 34.625 20.71875 30.859375 \nQ 16.703125 27.09375 16.703125 20.515625 \nQ 16.703125 13.921875 20.71875 10.15625 \nQ 24.75 6.390625 31.78125 6.390625 \nQ 38.8125 6.390625 42.859375 10.171875 \nQ 46.921875 13.96875 46.921875 20.515625 \nQ 46.921875 27.09375 42.890625 30.859375 \nQ 38.875 34.625 31.78125 34.625 \nz\nM 21.921875 38.8125 \nQ 15.578125 40.375 12.03125 44.71875 \nQ 8.5 49.078125 8.5 55.328125 \nQ 8.5 64.0625 14.71875 69.140625 \nQ 20.953125 74.21875 31.78125 74.21875 \nQ 42.671875 74.21875 48.875 69.140625 \nQ 55.078125 64.0625 55.078125 55.328125 \nQ 55.078125 49.078125 51.53125 44.71875 \nQ 48 40.375 41.703125 38.8125 \nQ 48.828125 37.15625 52.796875 32.3125 \nQ 56.78125 27.484375 56.78125 20.515625 \nQ 56.78125 9.90625 50.3125 4.234375 \nQ 43.84375 -1.421875 31.78125 -1.421875 \nQ 19.734375 -1.421875 13.25 4.234375 \nQ 6.78125 9.90625 6.78125 20.515625 \nQ 6.78125 27.484375 10.78125 32.3125 \nQ 14.796875 37.15625 21.921875 38.8125 \nz\nM 18.3125 54.390625 \nQ 18.3125 48.734375 21.84375 45.5625 \nQ 25.390625 42.390625 31.78125 42.390625 \nQ 38.140625 42.390625 41.71875 45.5625 \nQ 45.3125 48.734375 45.3125 54.390625 \nQ 45.3125 60.0625 41.71875 63.234375 \nQ 38.140625 66.40625 31.78125 66.40625 \nQ 25.390625 66.40625 21.84375 63.234375 \nQ 18.3125 60.0625 18.3125 54.390625 \nz\n\" id=\"DejaVuSans-56\"/>\n     </defs>\n     <use xlink:href=\"#DejaVuSans-49\"/>\n     <use x=\"63.623047\" xlink:href=\"#DejaVuSans-51\"/>\n     <use x=\"127.246094\" xlink:href=\"#DejaVuSans-54\"/>\n     <use x=\"190.869141\" xlink:href=\"#DejaVuSans-56\"/>\n    </g>\n   </g>\n   <g id=\"text_8\">\n    <!-- 6 -->\n    <g style=\"fill:#fde725;\" transform=\"translate(265.419375 122.099375)scale(0.1 -0.1)\">\n     <use xlink:href=\"#DejaVuSans-54\"/>\n    </g>\n   </g>\n   <g id=\"text_9\">\n    <!-- 55 -->\n    <g style=\"fill:#fde725;\" transform=\"translate(105.998125 278.339375)scale(0.1 -0.1)\">\n     <defs>\n      <path d=\"M 10.796875 72.90625 \nL 49.515625 72.90625 \nL 49.515625 64.59375 \nL 19.828125 64.59375 \nL 19.828125 46.734375 \nQ 21.96875 47.46875 24.109375 47.828125 \nQ 26.265625 48.1875 28.421875 48.1875 \nQ 40.625 48.1875 47.75 41.5 \nQ 54.890625 34.8125 54.890625 23.390625 \nQ 54.890625 11.625 47.5625 5.09375 \nQ 40.234375 -1.421875 26.90625 -1.421875 \nQ 22.3125 -1.421875 17.546875 -0.640625 \nQ 12.796875 0.140625 7.71875 1.703125 \nL 7.71875 11.625 \nQ 12.109375 9.234375 16.796875 8.0625 \nQ 21.484375 6.890625 26.703125 6.890625 \nQ 35.15625 6.890625 40.078125 11.328125 \nQ 45.015625 15.765625 45.015625 23.390625 \nQ 45.015625 31 40.078125 35.4375 \nQ 35.15625 39.890625 26.703125 39.890625 \nQ 22.75 39.890625 18.8125 39.015625 \nQ 14.890625 38.140625 10.796875 36.28125 \nz\n\" id=\"DejaVuSans-53\"/>\n     </defs>\n     <use xlink:href=\"#DejaVuSans-53\"/>\n     <use x=\"63.623047\" xlink:href=\"#DejaVuSans-53\"/>\n    </g>\n   </g>\n   <g id=\"text_10\">\n    <!-- 24 -->\n    <g style=\"fill:#fde725;\" transform=\"translate(262.238125 278.339375)scale(0.1 -0.1)\">\n     <defs>\n      <path d=\"M 19.1875 8.296875 \nL 53.609375 8.296875 \nL 53.609375 0 \nL 7.328125 0 \nL 7.328125 8.296875 \nQ 12.9375 14.109375 22.625 23.890625 \nQ 32.328125 33.6875 34.8125 36.53125 \nQ 39.546875 41.84375 41.421875 45.53125 \nQ 43.3125 49.21875 43.3125 52.78125 \nQ 43.3125 58.59375 39.234375 62.25 \nQ 35.15625 65.921875 28.609375 65.921875 \nQ 23.96875 65.921875 18.8125 64.3125 \nQ 13.671875 62.703125 7.8125 59.421875 \nL 7.8125 69.390625 \nQ 13.765625 71.78125 18.9375 73 \nQ 24.125 74.21875 28.421875 74.21875 \nQ 39.75 74.21875 46.484375 68.546875 \nQ 53.21875 62.890625 53.21875 53.421875 \nQ 53.21875 48.921875 51.53125 44.890625 \nQ 49.859375 40.875 45.40625 35.40625 \nQ 44.1875 33.984375 37.640625 27.21875 \nQ 31.109375 20.453125 19.1875 8.296875 \nz\n\" id=\"DejaVuSans-50\"/>\n      <path d=\"M 37.796875 64.3125 \nL 12.890625 25.390625 \nL 37.796875 25.390625 \nz\nM 35.203125 72.90625 \nL 47.609375 72.90625 \nL 47.609375 25.390625 \nL 58.015625 25.390625 \nL 58.015625 17.1875 \nL 47.609375 17.1875 \nL 47.609375 0 \nL 37.796875 0 \nL 37.796875 17.1875 \nL 4.890625 17.1875 \nL 4.890625 26.703125 \nz\n\" id=\"DejaVuSans-52\"/>\n     </defs>\n     <use xlink:href=\"#DejaVuSans-50\"/>\n     <use x=\"63.623047\" xlink:href=\"#DejaVuSans-52\"/>\n    </g>\n   </g>\n  </g>\n  <g id=\"axes_2\">\n   <g id=\"patch_7\">\n    <path clip-path=\"url(#p264a781719)\" d=\"M 366.250625 387.72 \nL 366.250625 386.233594 \nL 366.250625 8.686406 \nL 366.250625 7.2 \nL 385.276625 7.2 \nL 385.276625 8.686406 \nL 385.276625 386.233594 \nL 385.276625 387.72 \nz\n\" style=\"fill:#ffffff;stroke:#ffffff;stroke-linejoin:miter;stroke-width:0.01;\"/>\n   </g>\n   <image height=\"381\" id=\"image4db0c14469\" transform=\"scale(1 -1)translate(0 -381)\" width=\"19\" x=\"366\" xlink:href=\"data:image/png;base64,\niVBORw0KGgoAAAANSUhEUgAAABMAAAF9CAYAAADm2VNSAAAB70lEQVR4nO2dgY2EQAwDd1lK+xK+/1KeryFoJEayU4B1Ezth4dDd/tm/z4LqXvuitBantNa697U5sWKOi8VcLCYnRrvJ6YkxVwomGNrd2fxUrBMwrxw3MzDBFYT2rKGdF4yZ4ebjdROUiwmtFpPMGRqNujmvuvlCTLxpuQ+mDm3GBeXJcBMNrXg2ydCyaxs0oBMwLxqTExM/iiB7pt5nnJj6SIVp1c0XVTdfiJHHUDOm2M2GdipWzHEVc14xd3V181Ox3ojNy4vZCZhXSDRgTFLMi9nZnIuFYHpDG7KCGtq5WAimN7QZs+ntWUM7r5DQpmCuzR3eO5vzCgmtuGcZE+AdJ/UEcNHwGiB2E8aMcFO7gthN6w0t+O1aTGi9bq4VEtpiTsXMmKCYdwWhbpI9E2OaQ0u6iUm5MTMm4LL2TB0NTKtuvqj7Ik+OdXNcxZwXi0lOgHjTkj0zuxmCqQ1t3fxWTHw8EGPuP1JMi1k3x2LHi8m6yfVMvGlPezYWM09AxNo+IZjoRVh7QGYxtSsoZNPGYGasIBKTHHTxydGMGXEfAM+m1U14Nq1uwqGNcDPksEeeNRraedGHPfS5Rns2LDGmeNDJd/bEmKTY0b4VccD37NCe0RdhFNP6u1Swm1pM1k3uw9ErCMQ82n/r0hrwD8EujfxD+gvjAAAAAElFTkSuQmCC\" y=\"-6\"/>\n   <g id=\"matplotlib.axis_3\"/>\n   <g id=\"matplotlib.axis_4\">\n    <g id=\"ytick_3\">\n     <g id=\"line2d_5\">\n      <defs>\n       <path d=\"M 0 0 \nL 3.5 0 \n\" id=\"m06408e8227\" style=\"stroke:#000000;stroke-width:0.8;\"/>\n      </defs>\n      <g>\n       <use style=\"stroke:#000000;stroke-width:0.8;\" x=\"385.276625\" xlink:href=\"#m06408e8227\" y=\"333.519648\"/>\n      </g>\n     </g>\n     <g id=\"text_11\">\n      <!-- 200 -->\n      <g transform=\"translate(392.276625 337.318866)scale(0.1 -0.1)\">\n       <use xlink:href=\"#DejaVuSans-50\"/>\n       <use x=\"63.623047\" xlink:href=\"#DejaVuSans-48\"/>\n       <use x=\"127.246094\" xlink:href=\"#DejaVuSans-48\"/>\n      </g>\n     </g>\n    </g>\n    <g id=\"ytick_4\">\n     <g id=\"line2d_6\">\n      <g>\n       <use style=\"stroke:#000000;stroke-width:0.8;\" x=\"385.276625\" xlink:href=\"#m06408e8227\" y=\"277.642996\"/>\n      </g>\n     </g>\n     <g id=\"text_12\">\n      <!-- 400 -->\n      <g transform=\"translate(392.276625 281.442214)scale(0.1 -0.1)\">\n       <use xlink:href=\"#DejaVuSans-52\"/>\n       <use x=\"63.623047\" xlink:href=\"#DejaVuSans-48\"/>\n       <use x=\"127.246094\" xlink:href=\"#DejaVuSans-48\"/>\n      </g>\n     </g>\n    </g>\n    <g id=\"ytick_5\">\n     <g id=\"line2d_7\">\n      <g>\n       <use style=\"stroke:#000000;stroke-width:0.8;\" x=\"385.276625\" xlink:href=\"#m06408e8227\" y=\"221.766344\"/>\n      </g>\n     </g>\n     <g id=\"text_13\">\n      <!-- 600 -->\n      <g transform=\"translate(392.276625 225.565562)scale(0.1 -0.1)\">\n       <use xlink:href=\"#DejaVuSans-54\"/>\n       <use x=\"63.623047\" xlink:href=\"#DejaVuSans-48\"/>\n       <use x=\"127.246094\" xlink:href=\"#DejaVuSans-48\"/>\n      </g>\n     </g>\n    </g>\n    <g id=\"ytick_6\">\n     <g id=\"line2d_8\">\n      <g>\n       <use style=\"stroke:#000000;stroke-width:0.8;\" x=\"385.276625\" xlink:href=\"#m06408e8227\" y=\"165.889692\"/>\n      </g>\n     </g>\n     <g id=\"text_14\">\n      <!-- 800 -->\n      <g transform=\"translate(392.276625 169.68891)scale(0.1 -0.1)\">\n       <use xlink:href=\"#DejaVuSans-56\"/>\n       <use x=\"63.623047\" xlink:href=\"#DejaVuSans-48\"/>\n       <use x=\"127.246094\" xlink:href=\"#DejaVuSans-48\"/>\n      </g>\n     </g>\n    </g>\n    <g id=\"ytick_7\">\n     <g id=\"line2d_9\">\n      <g>\n       <use style=\"stroke:#000000;stroke-width:0.8;\" x=\"385.276625\" xlink:href=\"#m06408e8227\" y=\"110.01304\"/>\n      </g>\n     </g>\n     <g id=\"text_15\">\n      <!-- 1000 -->\n      <g transform=\"translate(392.276625 113.812258)scale(0.1 -0.1)\">\n       <use xlink:href=\"#DejaVuSans-49\"/>\n       <use x=\"63.623047\" xlink:href=\"#DejaVuSans-48\"/>\n       <use x=\"127.246094\" xlink:href=\"#DejaVuSans-48\"/>\n       <use x=\"190.869141\" xlink:href=\"#DejaVuSans-48\"/>\n      </g>\n     </g>\n    </g>\n    <g id=\"ytick_8\">\n     <g id=\"line2d_10\">\n      <g>\n       <use style=\"stroke:#000000;stroke-width:0.8;\" x=\"385.276625\" xlink:href=\"#m06408e8227\" y=\"54.136388\"/>\n      </g>\n     </g>\n     <g id=\"text_16\">\n      <!-- 1200 -->\n      <g transform=\"translate(392.276625 57.935606)scale(0.1 -0.1)\">\n       <use xlink:href=\"#DejaVuSans-49\"/>\n       <use x=\"63.623047\" xlink:href=\"#DejaVuSans-50\"/>\n       <use x=\"127.246094\" xlink:href=\"#DejaVuSans-48\"/>\n       <use x=\"190.869141\" xlink:href=\"#DejaVuSans-48\"/>\n      </g>\n     </g>\n    </g>\n   </g>\n   <g id=\"patch_8\">\n    <path d=\"M 366.250625 387.72 \nL 366.250625 386.233594 \nL 366.250625 8.686406 \nL 366.250625 7.2 \nL 385.276625 7.2 \nL 385.276625 8.686406 \nL 385.276625 386.233594 \nL 385.276625 387.72 \nz\n\" style=\"fill:none;stroke:#000000;stroke-linejoin:miter;stroke-width:0.8;\"/>\n   </g>\n  </g>\n </g>\n <defs>\n  <clipPath id=\"p2af8d4279a\">\n   <rect height=\"312.48\" width=\"312.48\" x=\"34.240625\" y=\"41.22\"/>\n  </clipPath>\n  <clipPath id=\"p264a781719\">\n   <rect height=\"380.52\" width=\"19.026\" x=\"366.250625\" y=\"7.2\"/>\n  </clipPath>\n </defs>\n</svg>\n",
      "image/png": "[encoded data removed]"
     },
     "metadata": {
      "needs_background": "light"
     }
    }
   ],
   "source": [
    "fig, ax = plt.subplots(figsize=(7, 7))\n",
    "plot_confusion_matrix(logr, X_val_scaled, y_val, ax=ax);"
   ]
  },
  {
   "cell_type": "code",
   "execution_count": 414,
   "metadata": {},
   "outputs": [],
   "source": [
    "# Trying KNN\n",
    "\n",
    "\n",
    "nn = KNeighborsClassifier(n_neighbors=5, n_jobs=-1)\n",
    "\n",
    "nn.fit(X_train_scaled, y_train)\n",
    "\n",
    "predictions = nn.predict(X_val_scaled)\n",
    "\n",
    "rmse = np.sqrt(mean_squared_error(y_val, predictions))\n",
    "\n",
    "#print(f'Root Mean Squared Error: {rmse:.2f}')"
   ]
  },
  {
   "cell_type": "code",
   "execution_count": 435,
   "metadata": {},
   "outputs": [
    {
     "output_type": "error",
     "ename": "IndexError",
     "evalue": "only integers, slices (`:`), ellipsis (`...`), numpy.newaxis (`None`) and integer or boolean arrays are valid indices",
     "traceback": [
      "\u001b[0;31m---------------------------------------------------------------------------\u001b[0m",
      "\u001b[0;31mIndexError\u001b[0m                                Traceback (most recent call last)",
      "\u001b[0;32m<ipython-input-435-4bd5a0f24b75>\u001b[0m in \u001b[0;36m<module>\u001b[0;34m\u001b[0m\n\u001b[1;32m      2\u001b[0m \u001b[0;34m\u001b[0m\u001b[0m\n\u001b[1;32m      3\u001b[0m \u001b[0;31m#axes[0].set_title(f'KNeighborsClassifier with k={nn.n_neighbors}')\u001b[0m\u001b[0;34m\u001b[0m\u001b[0;34m\u001b[0m\u001b[0;34m\u001b[0m\u001b[0m\n\u001b[0;32m----> 4\u001b[0;31m \u001b[0mplot_boundaries\u001b[0m\u001b[0;34m(\u001b[0m\u001b[0mnn\u001b[0m\u001b[0;34m,\u001b[0m \u001b[0mX_val_scaled\u001b[0m\u001b[0;34m,\u001b[0m \u001b[0mX_train_scaled\u001b[0m\u001b[0;34m,\u001b[0m \u001b[0max\u001b[0m\u001b[0;34m=\u001b[0m\u001b[0maxes\u001b[0m\u001b[0;34m,\u001b[0m \u001b[0mshow_test\u001b[0m\u001b[0;34m=\u001b[0m\u001b[0;32mTrue\u001b[0m\u001b[0;34m,\u001b[0m \u001b[0mplot_probas\u001b[0m\u001b[0;34m=\u001b[0m\u001b[0;32mFalse\u001b[0m\u001b[0;34m)\u001b[0m\u001b[0;34m\u001b[0m\u001b[0;34m\u001b[0m\u001b[0m\n\u001b[0m\u001b[1;32m      5\u001b[0m \u001b[0;34m\u001b[0m\u001b[0m\n\u001b[1;32m      6\u001b[0m \u001b[0;31m#axes[1].set_title('Logistic Regression')\u001b[0m\u001b[0;34m\u001b[0m\u001b[0;34m\u001b[0m\u001b[0;34m\u001b[0m\u001b[0m\n",
      "\u001b[0;32m~/METIS bootcamp/Project 3/visualize.py\u001b[0m in \u001b[0;36mplot_boundaries\u001b[0;34m(model, X_test, X_train, ax, padding, grid_granularity, show_test, plot_probas)\u001b[0m\n\u001b[1;32m     39\u001b[0m \u001b[0;32mdef\u001b[0m \u001b[0mplot_boundaries\u001b[0m\u001b[0;34m(\u001b[0m\u001b[0mmodel\u001b[0m\u001b[0;34m,\u001b[0m \u001b[0mX_test\u001b[0m\u001b[0;34m,\u001b[0m \u001b[0mX_train\u001b[0m\u001b[0;34m,\u001b[0m \u001b[0max\u001b[0m\u001b[0;34m,\u001b[0m \u001b[0mpadding\u001b[0m \u001b[0;34m=\u001b[0m \u001b[0;36m1\u001b[0m\u001b[0;34m,\u001b[0m \u001b[0mgrid_granularity\u001b[0m \u001b[0;34m=\u001b[0m \u001b[0;36m0.01\u001b[0m\u001b[0;34m,\u001b[0m \u001b[0mshow_test\u001b[0m\u001b[0;34m=\u001b[0m\u001b[0;32mFalse\u001b[0m\u001b[0;34m,\u001b[0m \u001b[0mplot_probas\u001b[0m\u001b[0;34m=\u001b[0m\u001b[0;32mTrue\u001b[0m\u001b[0;34m)\u001b[0m\u001b[0;34m:\u001b[0m\u001b[0;34m\u001b[0m\u001b[0;34m\u001b[0m\u001b[0m\n\u001b[1;32m     40\u001b[0m \u001b[0;34m\u001b[0m\u001b[0m\n\u001b[0;32m---> 41\u001b[0;31m     \u001b[0mx_min\u001b[0m\u001b[0;34m,\u001b[0m \u001b[0mx_max\u001b[0m \u001b[0;34m=\u001b[0m \u001b[0mX_train\u001b[0m\u001b[0;34m[\u001b[0m\u001b[0;34m'A'\u001b[0m\u001b[0;34m]\u001b[0m\u001b[0;34m.\u001b[0m\u001b[0mmin\u001b[0m\u001b[0;34m(\u001b[0m\u001b[0;34m)\u001b[0m \u001b[0;34m-\u001b[0m \u001b[0mpadding\u001b[0m\u001b[0;34m,\u001b[0m \u001b[0mX_train\u001b[0m\u001b[0;34m[\u001b[0m\u001b[0;34m'A'\u001b[0m\u001b[0;34m]\u001b[0m\u001b[0;34m.\u001b[0m\u001b[0mmax\u001b[0m\u001b[0;34m(\u001b[0m\u001b[0;34m)\u001b[0m \u001b[0;34m+\u001b[0m \u001b[0mpadding\u001b[0m\u001b[0;34m\u001b[0m\u001b[0;34m\u001b[0m\u001b[0m\n\u001b[0m\u001b[1;32m     42\u001b[0m     \u001b[0my_min\u001b[0m\u001b[0;34m,\u001b[0m \u001b[0my_max\u001b[0m \u001b[0;34m=\u001b[0m \u001b[0mX_train\u001b[0m\u001b[0;34m[\u001b[0m\u001b[0;34m'B'\u001b[0m\u001b[0;34m]\u001b[0m\u001b[0;34m.\u001b[0m\u001b[0mmin\u001b[0m\u001b[0;34m(\u001b[0m\u001b[0;34m)\u001b[0m \u001b[0;34m-\u001b[0m \u001b[0mpadding\u001b[0m\u001b[0;34m,\u001b[0m \u001b[0mX_train\u001b[0m\u001b[0;34m[\u001b[0m\u001b[0;34m'B'\u001b[0m\u001b[0;34m]\u001b[0m\u001b[0;34m.\u001b[0m\u001b[0mmax\u001b[0m\u001b[0;34m(\u001b[0m\u001b[0;34m)\u001b[0m \u001b[0;34m+\u001b[0m \u001b[0mpadding\u001b[0m\u001b[0;34m\u001b[0m\u001b[0;34m\u001b[0m\u001b[0m\n\u001b[1;32m     43\u001b[0m \u001b[0;34m\u001b[0m\u001b[0m\n",
      "\u001b[0;31mIndexError\u001b[0m: only integers, slices (`:`), ellipsis (`...`), numpy.newaxis (`None`) and integer or boolean arrays are valid indices"
     ]
    }
   ],
   "source": [
    "fig, axes = plt.subplots(ncols=2, figsize=(14, 6), sharey=True)\n",
    "\n",
    "axes[0].set_title(f'KNeighborsClassifier with k={nn.n_neighbors}')\n",
    "plot_boundaries(nn, X_val_scaled, X_train_scaled, ax=axes, show_test=True, plot_probas=False)\n",
    "\n",
    "axes[1].set_title('Logistic Regression')\n",
    "plot_boundaries(logr, X_val_scaled, X_train_scaled, ax=axes[1], plot_probas=False, show_test=True)"
   ]
  },
  {
   "cell_type": "code",
   "execution_count": null,
   "metadata": {},
   "outputs": [],
   "source": []
  }
 ]
}