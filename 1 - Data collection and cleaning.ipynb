{
 "metadata": {
  "language_info": {
   "codemirror_mode": {
    "name": "ipython",
    "version": 3
   },
   "file_extension": ".py",
   "mimetype": "text/x-python",
   "name": "python",
   "nbconvert_exporter": "python",
   "pygments_lexer": "ipython3",
   "version": "3.8.3-final"
  },
  "orig_nbformat": 2,
  "kernelspec": {
   "name": "python3",
   "display_name": "Python 3"
  }
 },
 "nbformat": 4,
 "nbformat_minor": 2,
 "cells": [
  {
   "source": [
    "# Set-up\n",
    "I built my project around two Kaggle datasets ([\"NBA Players stats since 1950\"](https://www.kaggle.com/drgilermo/nba-players-stats) & [\"NBA All Star Game 2000-2016\"](https://www.kaggle.com/fmejia21/nba-all-star-game-20002016)). I then scraped sites including stats.NBA.com in my feature engineering efforts. Below, I've pieced together my workflow pieced as best I can, and hopefully in a way that can be reasonably understood by anyone reading it."
   ],
   "cell_type": "markdown",
   "metadata": {}
  },
  {
   "source": [
    "# Imports"
   ],
   "cell_type": "markdown",
   "metadata": {}
  },
  {
   "cell_type": "code",
   "execution_count": 1,
   "metadata": {},
   "outputs": [],
   "source": [
    "import pandas as pd\n",
    "import numpy as np\n",
    "import time\n",
    "import requests\n",
    "import re\n",
    "from bs4 import BeautifulSoup\n",
    "import pickle\n",
    "from tqdm import tqdm\n",
    "from selenium import webdriver\n",
    "from selenium.webdriver.common.keys import Keys\n",
    "import time, os\n",
    "import nba_data_functions as nbad\n",
    "from fake_useragent import UserAgent\n",
    "\n",
    "ua = UserAgent()\n",
    "user_agent = {'User-agent': ua.random}\n",
    "chromedriver = \"/Applications/chromedriver\" # path to the chromedriver executable\n",
    "os.environ[\"webdriver.chrome.driver\"] = chromedriver"
   ]
  },
  {
   "source": [
    "# Building main dataset\n",
    "Below is a trimmed outline of the functions, scraped, calls, etc., that I used to build my final dataset. A note on my target variable: As each player-season (datapoint) contained data current as of the end of that season, and my target was that player's All-Star status the *following* season, I needed to add a column to contain, essentially, the \"All-Star?\" value from his following season. I handled this in my nbad.get_main_data() function."
   ],
   "cell_type": "markdown",
   "metadata": {}
  },
  {
   "cell_type": "code",
   "execution_count": 2,
   "metadata": {},
   "outputs": [],
   "source": [
    "# Reading in the two Kaggle datasets\n",
    "all_stars2000_2016 = pd.read_csv(\"NBA All Stars 2000-2016 - Sheet1.csv\")\n",
    "master_df = pd.read_csv(\"Seasons_Stats.csv\")"
   ]
  },
  {
   "cell_type": "code",
   "execution_count": 3,
   "metadata": {},
   "outputs": [
    {
     "output_type": "stream",
     "name": "stdout",
     "text": [
      "Request status code: 200\n",
      "Request status code: 200\n",
      "Request status code: 200\n",
      "100%|██████████| 37/37 [00:00<00:00, 121336.39it/s]\n"
     ]
    }
   ],
   "source": [
    "# Scraping and building a dictionary including all NBA teams active between 1999-2000 and today, TV abbreviations and TV market data from 2000-01 and 2001-02.\n",
    "full_team_dict = nbad.get_teams_dict()"
   ]
  },
  {
   "cell_type": "code",
   "execution_count": 5,
   "metadata": {},
   "outputs": [],
   "source": [
    "# Combining all data so far and cleaning (see comments in function)\n",
    "reindexed_master_df = nbad.get_main_data(master_df, all_stars2000_2016, full_team_dict)"
   ]
  },
  {
   "cell_type": "code",
   "execution_count": 7,
   "metadata": {},
   "outputs": [
    {
     "output_type": "stream",
     "name": "stderr",
     "text": [
      "  0%|          | 0/11 [00:00<?, ?it/s]\n",
      "  0%|          | 0/7031 [00:00<?, ?it/s]\u001b[A\n",
      "  4%|▍         | 292/7031 [00:00<00:02, 2915.12it/s]\u001b[A\n",
      "  9%|▊         | 607/7031 [00:00<00:02, 2981.82it/s]\u001b[A\n",
      " 14%|█▍        | 968/7031 [00:00<00:01, 3144.76it/s]\u001b[A\n",
      " 19%|█▉        | 1340/7031 [00:00<00:01, 3296.86it/s]\u001b[A\n",
      " 24%|██▍       | 1716/7031 [00:00<00:01, 3422.13it/s]\u001b[A\n",
      " 30%|██▉       | 2098/7031 [00:00<00:01, 3530.65it/s]\u001b[A\n",
      " 35%|███▌      | 2484/7031 [00:00<00:01, 3623.12it/s]\u001b[A\n",
      " 40%|████      | 2844/7031 [00:00<00:01, 3613.52it/s]\u001b[A\n",
      " 45%|████▌     | 3191/7031 [00:00<00:01, 3315.91it/s]\u001b[A\n",
      " 50%|█████     | 3518/7031 [00:01<00:01, 3162.34it/s]\u001b[A\n",
      " 55%|█████▍    | 3832/7031 [00:01<00:01, 3052.89it/s]\u001b[A\n",
      " 59%|█████▉    | 4137/7031 [00:01<00:00, 2927.91it/s]\u001b[A\n",
      " 63%|██████▎   | 4431/7031 [00:01<00:00, 2924.38it/s]\u001b[A\n",
      " 67%|██████▋   | 4724/7031 [00:01<00:00, 2918.49it/s]\u001b[A\n",
      " 72%|███████▏  | 5036/7031 [00:01<00:00, 2974.88it/s]\u001b[A\n",
      " 77%|███████▋  | 5388/7031 [00:01<00:00, 3118.47it/s]\u001b[A\n",
      " 82%|████████▏ | 5737/7031 [00:01<00:00, 3221.31it/s]\u001b[A\n",
      " 87%|████████▋ | 6100/7031 [00:01<00:00, 3332.77it/s]\u001b[A\n",
      " 92%|█████████▏| 6436/7031 [00:01<00:00, 3321.26it/s]\u001b[A\n",
      "100%|██████████| 7031/7031 [00:02<00:00, 3304.11it/s]\n",
      "  9%|▉         | 1/11 [00:14<02:21, 14.16s/it]\n",
      "  0%|          | 0/7031 [00:00<?, ?it/s]\u001b[A\n",
      "  5%|▍         | 326/7031 [00:00<00:02, 3255.53it/s]\u001b[A\n",
      " 10%|▉         | 693/7031 [00:00<00:01, 3369.10it/s]\u001b[A\n",
      " 15%|█▌        | 1070/7031 [00:00<00:01, 3478.38it/s]\u001b[A\n",
      " 21%|██        | 1444/7031 [00:00<00:01, 3550.55it/s]\u001b[A\n",
      " 26%|██▌       | 1805/7031 [00:00<00:01, 3566.81it/s]\u001b[A\n",
      " 31%|███       | 2176/7031 [00:00<00:01, 3607.98it/s]\u001b[A\n",
      " 36%|███▌      | 2548/7031 [00:00<00:01, 3639.05it/s]\u001b[A\n",
      " 42%|████▏     | 2918/7031 [00:00<00:01, 3656.65it/s]\u001b[A\n",
      " 46%|████▋     | 3266/7031 [00:00<00:01, 3496.79it/s]\u001b[A\n",
      " 51%|█████▏    | 3613/7031 [00:01<00:00, 3485.83it/s]\u001b[A\n",
      " 56%|█████▌    | 3954/7031 [00:01<00:00, 3258.14it/s]\u001b[A\n",
      " 61%|██████    | 4278/7031 [00:01<00:00, 3121.87it/s]\u001b[A\n",
      " 66%|██████▌   | 4620/7031 [00:01<00:00, 3205.11it/s]\u001b[A\n",
      " 70%|███████   | 4941/7031 [00:01<00:00, 3100.55it/s]\u001b[A\n",
      " 75%|███████▌  | 5292/7031 [00:01<00:00, 3212.53it/s]\u001b[A\n",
      " 80%|████████  | 5654/7031 [00:01<00:00, 3322.83it/s]\u001b[A\n",
      " 86%|████████▌ | 6021/7031 [00:01<00:00, 3416.93it/s]\u001b[A\n",
      " 91%|█████████ | 6379/7031 [00:01<00:00, 3463.24it/s]\u001b[A\n",
      "100%|██████████| 7031/7031 [00:02<00:00, 3449.32it/s]\n",
      " 18%|█▊        | 2/11 [00:28<02:08, 14.26s/it]\n",
      "  0%|          | 0/7031 [00:00<?, ?it/s]\u001b[A\n",
      "  4%|▍         | 288/7031 [00:00<00:02, 2875.34it/s]\u001b[A\n",
      "  8%|▊         | 592/7031 [00:00<00:02, 2922.10it/s]\u001b[A\n",
      " 14%|█▎        | 954/7031 [00:00<00:01, 3101.06it/s]\u001b[A\n",
      " 19%|█▉        | 1332/7031 [00:00<00:01, 3276.21it/s]\u001b[A\n",
      " 24%|██▍       | 1698/7031 [00:00<00:01, 3381.94it/s]\u001b[A\n",
      " 29%|██▊       | 2019/7031 [00:00<00:01, 3327.13it/s]\u001b[A\n",
      " 34%|███▍      | 2381/7031 [00:00<00:01, 3409.79it/s]\u001b[A\n",
      " 39%|███▉      | 2739/7031 [00:00<00:01, 3458.13it/s]\u001b[A\n",
      " 44%|████▍     | 3098/7031 [00:00<00:01, 3495.90it/s]\u001b[A\n",
      " 49%|████▉     | 3472/7031 [00:01<00:00, 3563.67it/s]\u001b[A\n",
      " 55%|█████▍    | 3838/7031 [00:01<00:00, 3591.09it/s]\u001b[A\n",
      " 60%|█████▉    | 4200/7031 [00:01<00:00, 3599.48it/s]\u001b[A\n",
      " 65%|██████▍   | 4557/7031 [00:01<00:00, 3551.49it/s]\u001b[A\n",
      " 70%|██████▉   | 4911/7031 [00:01<00:00, 3513.75it/s]\u001b[A\n",
      " 75%|███████▍  | 5261/7031 [00:01<00:00, 3423.83it/s]\u001b[A\n",
      " 80%|███████▉  | 5618/7031 [00:01<00:00, 3465.13it/s]\u001b[A\n",
      " 85%|████████▍ | 5965/7031 [00:01<00:00, 3399.95it/s]\u001b[A\n",
      " 90%|████████▉ | 6313/7031 [00:01<00:00, 3423.03it/s]\u001b[A\n",
      " 95%|█████████▍| 6657/7031 [00:01<00:00, 3425.68it/s]\u001b[A\n",
      "100%|██████████| 7031/7031 [00:02<00:00, 3442.61it/s]\n",
      " 27%|██▋       | 3/11 [00:42<01:52, 14.07s/it]\n",
      "  0%|          | 0/7031 [00:00<?, ?it/s]\u001b[A\n",
      "  4%|▍         | 276/7031 [00:00<00:02, 2756.28it/s]\u001b[A\n",
      "  9%|▉         | 624/7031 [00:00<00:02, 2939.46it/s]\u001b[A\n",
      " 14%|█▍        | 978/7031 [00:00<00:01, 3096.96it/s]\u001b[A\n",
      " 18%|█▊        | 1248/7031 [00:00<00:01, 2965.85it/s]\u001b[A\n",
      " 22%|██▏       | 1573/7031 [00:00<00:01, 3043.88it/s]\u001b[A\n",
      " 26%|██▌       | 1835/7031 [00:00<00:01, 2867.22it/s]\u001b[A\n",
      " 30%|██▉       | 2094/7031 [00:00<00:01, 2770.12it/s]\u001b[A\n",
      " 33%|███▎      | 2353/7031 [00:00<00:01, 2706.75it/s]\u001b[A\n",
      " 37%|███▋      | 2614/7031 [00:00<00:01, 2673.30it/s]\u001b[A\n",
      " 41%|████      | 2873/7031 [00:01<00:01, 2536.43it/s]\u001b[A\n",
      " 44%|████▍     | 3128/7031 [00:01<00:01, 2538.73it/s]\u001b[A\n",
      " 48%|████▊     | 3382/7031 [00:01<00:01, 2538.61it/s]\u001b[A\n",
      " 52%|█████▏    | 3687/7031 [00:01<00:01, 2671.65it/s]\u001b[A\n",
      " 57%|█████▋    | 3993/7031 [00:01<00:01, 2775.68it/s]\u001b[A\n",
      " 61%|██████    | 4294/7031 [00:01<00:00, 2840.29it/s]\u001b[A\n",
      " 65%|██████▌   | 4595/7031 [00:01<00:00, 2887.83it/s]\u001b[A\n",
      " 69%|██████▉   | 4885/7031 [00:01<00:00, 2794.79it/s]\u001b[A\n",
      " 74%|███████▍  | 5229/7031 [00:01<00:00, 2960.09it/s]\u001b[A\n",
      " 79%|███████▉  | 5580/7031 [00:01<00:00, 3106.06it/s]\u001b[A\n",
      " 84%|████████▍ | 5911/7031 [00:02<00:00, 3163.63it/s]\u001b[A\n",
      " 89%|████████▊ | 6231/7031 [00:02<00:00, 3142.38it/s]\u001b[A\n",
      " 94%|█████████▎| 6582/7031 [00:02<00:00, 3242.18it/s]\u001b[A\n",
      "100%|██████████| 7031/7031 [00:02<00:00, 2955.92it/s]\n",
      " 36%|███▋      | 4/11 [00:56<01:39, 14.20s/it]\n",
      "  0%|          | 0/7031 [00:00<?, ?it/s]\u001b[A\n",
      "  4%|▍         | 309/7031 [00:00<00:02, 3088.24it/s]\u001b[A\n",
      "  9%|▉         | 649/7031 [00:00<00:02, 3174.93it/s]\u001b[A\n",
      " 14%|█▍        | 994/7031 [00:00<00:01, 3252.37it/s]\u001b[A\n",
      " 19%|█▉        | 1335/7031 [00:00<00:01, 3297.23it/s]\u001b[A\n",
      " 23%|██▎       | 1620/7031 [00:00<00:01, 3146.94it/s]\u001b[A\n",
      " 28%|██▊       | 1946/7031 [00:00<00:01, 3178.31it/s]\u001b[A\n",
      " 32%|███▏      | 2269/7031 [00:00<00:01, 3191.23it/s]\u001b[A\n",
      " 37%|███▋      | 2599/7031 [00:00<00:01, 3222.14it/s]\u001b[A\n",
      " 41%|████▏     | 2905/7031 [00:00<00:01, 3133.13it/s]\u001b[A\n",
      " 46%|████▌     | 3223/7031 [00:01<00:01, 3144.84it/s]\u001b[A\n",
      " 51%|█████     | 3553/7031 [00:01<00:01, 3187.34it/s]\u001b[A\n",
      " 55%|█████▍    | 3867/7031 [00:01<00:01, 3127.57it/s]\u001b[A\n",
      " 60%|█████▉    | 4193/7031 [00:01<00:00, 3164.92it/s]\u001b[A\n",
      " 64%|██████▍   | 4523/7031 [00:01<00:00, 3203.44it/s]\u001b[A\n",
      " 69%|██████▉   | 4881/7031 [00:01<00:00, 3306.89it/s]\u001b[A\n",
      " 74%|███████▍  | 5232/7031 [00:01<00:00, 3363.88it/s]\u001b[A\n",
      " 79%|███████▉  | 5583/7031 [00:01<00:00, 3405.71it/s]\u001b[A\n",
      " 84%|████████▍ | 5934/7031 [00:01<00:00, 3434.39it/s]\u001b[A\n",
      " 89%|████████▉ | 6288/7031 [00:01<00:00, 3464.38it/s]\u001b[A\n",
      " 94%|█████████▍| 6639/7031 [00:02<00:00, 3476.45it/s]\u001b[A\n",
      "100%|██████████| 7031/7031 [00:02<00:00, 3300.84it/s]\n",
      " 45%|████▌     | 5/11 [01:11<01:25, 14.32s/it]\n",
      "  0%|          | 0/7031 [00:00<?, ?it/s]\u001b[A\n",
      "  4%|▍         | 292/7031 [00:00<00:02, 2918.53it/s]\u001b[A\n",
      "  9%|▉         | 634/7031 [00:00<00:02, 3050.91it/s]\u001b[A\n",
      " 14%|█▍        | 989/7031 [00:00<00:01, 3184.91it/s]\u001b[A\n",
      " 19%|█▉        | 1341/7031 [00:00<00:01, 3277.58it/s]\u001b[A\n",
      " 24%|██▍       | 1694/7031 [00:00<00:01, 3347.39it/s]\u001b[A\n",
      " 29%|██▉       | 2047/7031 [00:00<00:01, 3399.79it/s]\u001b[A\n",
      " 34%|███▍      | 2375/7031 [00:00<00:01, 3361.86it/s]\u001b[A\n",
      " 39%|███▉      | 2728/7031 [00:00<00:01, 3409.96it/s]\u001b[A\n",
      " 44%|████▎     | 3060/7031 [00:00<00:01, 3381.79it/s]\u001b[A\n",
      " 48%|████▊     | 3388/7031 [00:01<00:01, 3318.16it/s]\u001b[A\n",
      " 53%|█████▎    | 3713/7031 [00:01<00:01, 3270.36it/s]\u001b[A\n",
      " 58%|█████▊    | 4045/7031 [00:01<00:00, 3283.06it/s]\u001b[A\n",
      " 63%|██████▎   | 4395/7031 [00:01<00:00, 3343.96it/s]\u001b[A\n",
      " 67%|██████▋   | 4730/7031 [00:01<00:00, 3344.20it/s]\u001b[A\n",
      " 72%|███████▏  | 5063/7031 [00:01<00:00, 3312.25it/s]\u001b[A\n",
      " 77%|███████▋  | 5394/7031 [00:01<00:00, 3220.87it/s]\u001b[A\n",
      " 81%|████████▏ | 5716/7031 [00:01<00:00, 3197.46it/s]\u001b[A\n",
      " 86%|████████▌ | 6036/7031 [00:01<00:00, 3152.45it/s]\u001b[A\n",
      " 90%|█████████ | 6352/7031 [00:01<00:00, 3081.03it/s]\u001b[A\n",
      " 95%|█████████▌| 6703/7031 [00:02<00:00, 3196.88it/s]\u001b[A\n",
      "100%|██████████| 7031/7031 [00:02<00:00, 3266.23it/s]\n",
      " 55%|█████▍    | 6/11 [01:26<01:12, 14.41s/it]\n",
      "  0%|          | 0/7031 [00:00<?, ?it/s]\u001b[A\n",
      "  4%|▍         | 288/7031 [00:00<00:02, 2870.61it/s]\u001b[A\n",
      "  9%|▊         | 599/7031 [00:00<00:02, 2936.77it/s]\u001b[A\n",
      " 13%|█▎        | 934/7031 [00:00<00:02, 3047.69it/s]\u001b[A\n",
      " 18%|█▊        | 1278/7031 [00:00<00:01, 3153.78it/s]\u001b[A\n",
      " 23%|██▎       | 1626/7031 [00:00<00:01, 3242.85it/s]\u001b[A\n",
      " 28%|██▊       | 1972/7031 [00:00<00:01, 3302.80it/s]\u001b[A\n",
      " 33%|███▎      | 2323/7031 [00:00<00:01, 3361.22it/s]\u001b[A\n",
      " 38%|███▊      | 2669/7031 [00:00<00:01, 3388.22it/s]\u001b[A\n",
      " 43%|████▎     | 3015/7031 [00:00<00:01, 3407.60it/s]\u001b[A\n",
      " 48%|████▊     | 3363/7031 [00:01<00:01, 3425.20it/s]\u001b[A\n",
      " 53%|█████▎    | 3713/7031 [00:01<00:00, 3444.86it/s]\u001b[A\n",
      " 58%|█████▊    | 4053/7031 [00:01<00:00, 3384.87it/s]\u001b[A\n",
      " 62%|██████▏   | 4389/7031 [00:01<00:00, 3328.62it/s]\u001b[A\n",
      " 67%|██████▋   | 4739/7031 [00:01<00:00, 3377.85it/s]\u001b[A\n",
      " 72%|███████▏  | 5076/7031 [00:01<00:00, 3324.94it/s]\u001b[A\n",
      " 77%|███████▋  | 5408/7031 [00:01<00:00, 3145.44it/s]\u001b[A\n",
      " 82%|████████▏ | 5752/7031 [00:01<00:00, 3228.30it/s]\u001b[A\n",
      " 86%|████████▋ | 6077/7031 [00:01<00:00, 3227.07it/s]\u001b[A\n",
      " 91%|█████████ | 6406/7031 [00:01<00:00, 3244.47it/s]\u001b[A\n",
      "100%|██████████| 7031/7031 [00:02<00:00, 3291.69it/s]\n",
      " 64%|██████▎   | 7/11 [01:40<00:57, 14.45s/it]\n",
      "  0%|          | 0/7031 [00:00<?, ?it/s]\u001b[A\n",
      "  4%|▍         | 313/7031 [00:00<00:02, 3128.76it/s]\u001b[A\n",
      "  9%|▉         | 663/7031 [00:00<00:01, 3231.14it/s]\u001b[A\n",
      " 14%|█▍        | 1010/7031 [00:00<00:01, 3298.75it/s]\u001b[A\n",
      " 19%|█▉        | 1358/7031 [00:00<00:01, 3349.08it/s]\u001b[A\n",
      " 24%|██▍       | 1699/7031 [00:00<00:01, 3365.50it/s]\u001b[A\n",
      " 29%|██▉       | 2044/7031 [00:00<00:01, 3388.61it/s]\u001b[A\n",
      " 34%|███▍      | 2376/7031 [00:00<00:01, 3366.89it/s]\u001b[A\n",
      " 38%|███▊      | 2688/7031 [00:00<00:01, 3208.85it/s]\u001b[A\n",
      " 43%|████▎     | 3030/7031 [00:00<00:01, 3267.36it/s]\u001b[A\n",
      " 48%|████▊     | 3354/7031 [00:01<00:01, 3258.04it/s]\u001b[A\n",
      " 52%|█████▏    | 3673/7031 [00:01<00:01, 3228.94it/s]\u001b[A\n",
      " 57%|█████▋    | 4000/7031 [00:01<00:00, 3240.43it/s]\u001b[A\n",
      " 62%|██████▏   | 4337/7031 [00:01<00:00, 3276.12it/s]\u001b[A\n",
      " 66%|██████▋   | 4665/7031 [00:01<00:00, 3274.72it/s]\u001b[A\n",
      " 71%|███████   | 4991/7031 [00:01<00:00, 3253.09it/s]\u001b[A\n",
      " 76%|███████▌  | 5316/7031 [00:01<00:00, 3205.84it/s]\u001b[A\n",
      " 80%|████████  | 5657/7031 [00:01<00:00, 3263.01it/s]\u001b[A\n",
      " 85%|████████▌ | 6001/7031 [00:01<00:00, 3312.80it/s]\u001b[A\n",
      " 90%|█████████ | 6333/7031 [00:01<00:00, 3290.32it/s]\u001b[A\n",
      " 95%|█████████▍| 6663/7031 [00:02<00:00, 3108.12it/s]\u001b[A\n",
      "100%|██████████| 7031/7031 [00:02<00:00, 3230.09it/s]\n",
      " 73%|███████▎  | 8/11 [01:55<00:44, 14.73s/it]\n",
      "  0%|          | 0/7031 [00:00<?, ?it/s]\u001b[A\n",
      "  4%|▍         | 276/7031 [00:00<00:02, 2758.81it/s]\u001b[A\n",
      "  8%|▊         | 545/7031 [00:00<00:02, 2737.61it/s]\u001b[A\n",
      " 12%|█▏        | 861/7031 [00:00<00:02, 2850.20it/s]\u001b[A\n",
      " 17%|█▋        | 1202/7031 [00:00<00:01, 2996.31it/s]\u001b[A\n",
      " 22%|██▏       | 1541/7031 [00:00<00:01, 3102.31it/s]\u001b[A\n",
      " 26%|██▋       | 1862/7031 [00:00<00:01, 3131.36it/s]\u001b[A\n",
      " 31%|███       | 2175/7031 [00:00<00:01, 3130.25it/s]\u001b[A\n",
      " 35%|███▌      | 2489/7031 [00:00<00:01, 3132.51it/s]\u001b[A\n",
      " 40%|███▉      | 2803/7031 [00:00<00:01, 3133.86it/s]\u001b[A\n",
      " 44%|████▍     | 3106/7031 [00:01<00:01, 3095.20it/s]\u001b[A\n",
      " 49%|████▉     | 3440/7031 [00:01<00:01, 3164.06it/s]\u001b[A\n",
      " 53%|█████▎    | 3752/7031 [00:01<00:01, 3039.10it/s]\u001b[A\n",
      " 58%|█████▊    | 4054/7031 [00:01<00:00, 3021.14it/s]\u001b[A\n",
      " 62%|██████▏   | 4355/7031 [00:01<00:00, 2982.15it/s]\u001b[A\n",
      " 66%|██████▋   | 4662/7031 [00:01<00:00, 3006.99it/s]\u001b[A\n",
      " 71%|███████   | 4985/7031 [00:01<00:00, 3068.36it/s]\u001b[A\n",
      " 76%|███████▌  | 5324/7031 [00:01<00:00, 3155.89it/s]\u001b[A\n",
      " 80%|████████  | 5641/7031 [00:01<00:00, 3107.68it/s]\u001b[A\n",
      " 85%|████████▍ | 5953/7031 [00:01<00:00, 3049.61it/s]\u001b[A\n",
      " 89%|████████▉ | 6281/7031 [00:02<00:00, 3113.54it/s]\u001b[A\n",
      " 94%|█████████▍| 6594/7031 [00:02<00:00, 3073.73it/s]\u001b[A\n",
      "100%|██████████| 7031/7031 [00:02<00:00, 3089.04it/s]\n",
      " 82%|████████▏ | 9/11 [02:10<00:29, 14.81s/it]\n",
      "  0%|          | 0/7031 [00:00<?, ?it/s]\u001b[A\n",
      "  4%|▍         | 314/7031 [00:00<00:02, 3135.27it/s]\u001b[A\n",
      "  9%|▉         | 623/7031 [00:00<00:02, 3117.05it/s]\u001b[A\n",
      " 13%|█▎        | 924/7031 [00:00<00:01, 3081.35it/s]\u001b[A\n",
      " 17%|█▋        | 1230/7031 [00:00<00:01, 3074.11it/s]\u001b[A\n",
      " 22%|██▏       | 1547/7031 [00:00<00:01, 3099.09it/s]\u001b[A\n",
      " 27%|██▋       | 1881/7031 [00:00<00:01, 3167.11it/s]\u001b[A\n",
      " 31%|███▏      | 2214/7031 [00:00<00:01, 3212.46it/s]\u001b[A\n",
      " 36%|███▌      | 2543/7031 [00:00<00:01, 3234.01it/s]\u001b[A\n",
      " 41%|████      | 2851/7031 [00:00<00:01, 3184.83it/s]\u001b[A\n",
      " 45%|████▍     | 3158/7031 [00:01<00:01, 3132.46it/s]\u001b[A\n",
      " 49%|████▉     | 3467/7031 [00:01<00:01, 3117.91it/s]\u001b[A\n",
      " 54%|█████▍    | 3788/7031 [00:01<00:01, 3144.20it/s]\u001b[A\n",
      " 59%|█████▊    | 4126/7031 [00:01<00:00, 3209.25it/s]\u001b[A\n",
      " 63%|██████▎   | 4464/7031 [00:01<00:00, 3257.21it/s]\u001b[A\n",
      " 68%|██████▊   | 4791/7031 [00:01<00:00, 3259.98it/s]\u001b[A\n",
      " 73%|███████▎  | 5127/7031 [00:01<00:00, 3288.76it/s]\u001b[A\n",
      " 78%|███████▊  | 5460/7031 [00:01<00:00, 3297.92it/s]\u001b[A\n",
      " 82%|████████▏ | 5796/7031 [00:01<00:00, 3316.21it/s]\u001b[A\n",
      " 87%|████████▋ | 6135/7031 [00:01<00:00, 3335.48it/s]\u001b[A\n",
      " 92%|█████████▏| 6469/7031 [00:02<00:00, 3314.27it/s]\u001b[A\n",
      "100%|██████████| 7031/7031 [00:02<00:00, 3231.92it/s]\n",
      " 91%|█████████ | 10/11 [02:26<00:14, 14.99s/it]\n",
      "  0%|          | 0/7031 [00:00<?, ?it/s]\u001b[A\n",
      "  4%|▍         | 288/7031 [00:00<00:02, 2874.54it/s]\u001b[A\n",
      "  9%|▊         | 610/7031 [00:00<00:02, 2968.09it/s]\u001b[A\n",
      " 14%|█▎        | 951/7031 [00:00<00:01, 3085.60it/s]\u001b[A\n",
      " 18%|█▊        | 1270/7031 [00:00<00:01, 3113.99it/s]\u001b[A\n",
      " 23%|██▎       | 1592/7031 [00:00<00:01, 3143.93it/s]\u001b[A\n",
      " 27%|██▋       | 1888/7031 [00:00<00:01, 3085.27it/s]\u001b[A\n",
      " 32%|███▏      | 2217/7031 [00:00<00:01, 3143.21it/s]\u001b[A\n",
      " 36%|███▌      | 2509/7031 [00:00<00:01, 3044.03it/s]\u001b[A\n",
      " 40%|███▉      | 2799/7031 [00:00<00:01, 2945.42it/s]\u001b[A\n",
      " 44%|████▍     | 3122/7031 [00:01<00:01, 3021.70it/s]\u001b[A\n",
      " 49%|████▊     | 3418/7031 [00:01<00:01, 2817.89it/s]\u001b[A\n",
      " 53%|█████▎    | 3728/7031 [00:01<00:01, 2894.99it/s]\u001b[A\n",
      " 57%|█████▋    | 4024/7031 [00:01<00:01, 2909.69it/s]\u001b[A\n",
      " 62%|██████▏   | 4340/7031 [00:01<00:00, 2980.28it/s]\u001b[A\n",
      " 66%|██████▌   | 4647/7031 [00:01<00:00, 3006.47it/s]\u001b[A\n",
      " 70%|███████   | 4948/7031 [00:01<00:00, 2933.82it/s]\u001b[A\n",
      " 75%|███████▍  | 5242/7031 [00:01<00:00, 2837.33it/s]\u001b[A\n",
      " 79%|███████▊  | 5527/7031 [00:01<00:00, 2770.83it/s]\u001b[A\n",
      " 83%|████████▎ | 5821/7031 [00:01<00:00, 2819.41it/s]\u001b[A\n",
      " 87%|████████▋ | 6130/7031 [00:02<00:00, 2893.23it/s]\u001b[A\n",
      " 91%|█████████▏| 6421/7031 [00:02<00:00, 2867.98it/s]\u001b[A\n",
      " 96%|█████████▌| 6722/7031 [00:02<00:00, 2908.99it/s]\u001b[A\n",
      "100%|██████████| 7031/7031 [00:02<00:00, 2965.05it/s]\n",
      "100%|██████████| 11/11 [02:42<00:00, 14.74s/it]\n"
     ]
    }
   ],
   "source": [
    "# Adding columns/features reflecting core counting stats per game, and per game relative to that of all players active that season, plus the actual season average in case I need it\n",
    "reindexed_master_df = nbad.per_game_rel_to_season(reindexed_master_df, [\"AST\", \"PTS\", \"ORB\", \"DRB\", \"TRB\", \"STL\", \"BLK\", \"MP\", \"3P\", \"FT\", \"FTA\"])"
   ]
  },
  {
   "cell_type": "code",
   "execution_count": 8,
   "metadata": {},
   "outputs": [],
   "source": [
    "# Adding a column that reflects a player's \"Years from prime\"\n",
    "reindexed_master_df[\"Years from prime\"] = (27 - reindexed_master_df[\"Age\"])"
   ]
  },
  {
   "cell_type": "code",
   "execution_count": null,
   "metadata": {},
   "outputs": [],
   "source": [
    "# Re-sorting to ensure order needed for next steps (probably could be reordered but at this stage I don't want to cause issues right before submission)\n",
    "ordered_df = reindexed_master_df.sort_values(by=[\"Player\", \"Year\"])"
   ]
  },
  {
   "source": [
    "## Feature engineering spotlight: \"Adjusted TV market value\"\n",
    "Here, I wanted to quantify the boost to a player's public profile and All-Star resume by way of TV market size. The formula I came up with is, applied in the function called below, is as follows:\n",
    "\n",
    "- Each player-season has a \"TV media market\" value, originally reported by Nielsen, with noted exceptions:\n",
    "    - I used the mean market size to replace the NaNs assigned to the two Canadian cities in my dataset\n",
    "    - Players that were traded were in my earlier cleaning assigned the team they spent the most games with that season\n",
    "- For each season a player is active, he accrues market value in the following weighted increments:\n",
    "    - Rookie season: \"TV market size\" * 0.75\n",
    "    - Year 2: \"TV market size\"\n",
    "    - Years 3+: \"TV market size\" * (1.1 ** n (where n is the number of seasons played since year 2))\n",
    "- I decided that more years in the league shouldn't lessen a player's value and so in a pretty reductive choice used each player's max \"TV market value\" through the year in question and there forward until he moved to an even larger market (i.e. when Andrew Bynum was traded from LA to Philly he was assigned the larger of the two, the LA \"TV market value,\" through the rest of his strangely short career)\n",
    "- Finally I divided the accrued total by the number of years player to that point"
   ],
   "cell_type": "markdown",
   "metadata": {}
  },
  {
   "cell_type": "code",
   "execution_count": 9,
   "metadata": {},
   "outputs": [
    {
     "output_type": "stream",
     "name": "stderr",
     "text": [
      "  0%|          | 1/7031 [00:00<00:12, 585.14it/s]\n"
     ]
    },
    {
     "output_type": "error",
     "ename": "NameError",
     "evalue": "name 'reindexed_master_df' is not defined",
     "traceback": [
      "\u001b[0;31m---------------------------------------------------------------------------\u001b[0m",
      "\u001b[0;31mNameError\u001b[0m                                 Traceback (most recent call last)",
      "\u001b[0;32m<ipython-input-9-499f20473cf3>\u001b[0m in \u001b[0;36m<module>\u001b[0;34m\u001b[0m\n\u001b[0;32m----> 1\u001b[0;31m \u001b[0mordered_df\u001b[0m \u001b[0;34m=\u001b[0m \u001b[0mnbad\u001b[0m\u001b[0;34m.\u001b[0m\u001b[0mtv_market_cumulative\u001b[0m\u001b[0;34m(\u001b[0m\u001b[0mordered_df\u001b[0m\u001b[0;34m)\u001b[0m\u001b[0;34m\u001b[0m\u001b[0;34m\u001b[0m\u001b[0m\n\u001b[0m",
      "\u001b[0;32m~/METIS bootcamp/Project 3/project-3-ian-livingston/nba_data_functions.py\u001b[0m in \u001b[0;36mtv_market_cumulative\u001b[0;34m(ordered_df)\u001b[0m\n\u001b[1;32m    354\u001b[0m                     \u001b[0msame_guy\u001b[0m \u001b[0;34m=\u001b[0m \u001b[0mordered_df\u001b[0m\u001b[0;34m.\u001b[0m\u001b[0miloc\u001b[0m\u001b[0;34m[\u001b[0m\u001b[0mx\u001b[0m\u001b[0;34m]\u001b[0m\u001b[0;34m[\u001b[0m\u001b[0;34m\"Player\"\u001b[0m\u001b[0;34m]\u001b[0m \u001b[0;34m==\u001b[0m \u001b[0mreindexed_master_df\u001b[0m\u001b[0;34m.\u001b[0m\u001b[0msort_values\u001b[0m\u001b[0;34m(\u001b[0m\u001b[0mby\u001b[0m\u001b[0;34m=\u001b[0m\u001b[0;34m[\u001b[0m\u001b[0;34m\"Player\"\u001b[0m\u001b[0;34m,\u001b[0m \u001b[0;34m\"Year\"\u001b[0m\u001b[0;34m]\u001b[0m\u001b[0;34m)\u001b[0m\u001b[0;34m.\u001b[0m\u001b[0miloc\u001b[0m\u001b[0;34m[\u001b[0m\u001b[0mx\u001b[0m\u001b[0;34m-\u001b[0m\u001b[0;36m1\u001b[0m\u001b[0;34m]\u001b[0m\u001b[0;34m[\u001b[0m\u001b[0;34m\"Player\"\u001b[0m\u001b[0;34m]\u001b[0m\u001b[0;34m\u001b[0m\u001b[0;34m\u001b[0m\u001b[0m\n\u001b[1;32m    355\u001b[0m                 \u001b[0;32mfor\u001b[0m \u001b[0m_\u001b[0m \u001b[0;32min\u001b[0m \u001b[0mrange\u001b[0m\u001b[0;34m(\u001b[0m\u001b[0;36m0\u001b[0m\u001b[0;34m,\u001b[0m \u001b[0mlen\u001b[0m\u001b[0;34m(\u001b[0m\u001b[0mtotal_market\u001b[0m\u001b[0;34m[\u001b[0m\u001b[0;34m:\u001b[0m\u001b[0;34m:\u001b[0m\u001b[0;34m-\u001b[0m\u001b[0;36m1\u001b[0m\u001b[0;34m]\u001b[0m\u001b[0;34m)\u001b[0m\u001b[0;34m)\u001b[0m\u001b[0;34m:\u001b[0m\u001b[0;34m\u001b[0m\u001b[0;34m\u001b[0m\u001b[0m\n\u001b[0;32m--> 356\u001b[0;31m                     \u001b[0;32mif\u001b[0m \u001b[0m_\u001b[0m \u001b[0;34m==\u001b[0m \u001b[0;36m0\u001b[0m\u001b[0;34m:\u001b[0m\u001b[0;34m\u001b[0m\u001b[0;34m\u001b[0m\u001b[0m\n\u001b[0m\u001b[1;32m    357\u001b[0m                         \u001b[0mprofile\u001b[0m \u001b[0;34m=\u001b[0m \u001b[0mtotal_market\u001b[0m\u001b[0;34m[\u001b[0m\u001b[0;34m:\u001b[0m\u001b[0;34m:\u001b[0m\u001b[0;34m-\u001b[0m\u001b[0;36m1\u001b[0m\u001b[0;34m]\u001b[0m\u001b[0;34m[\u001b[0m\u001b[0;36m0\u001b[0m\u001b[0;34m]\u001b[0m \u001b[0;34m*\u001b[0m \u001b[0;36m0.75\u001b[0m     \u001b[0;31m# Rookies get 0.75 of full value\u001b[0m\u001b[0;34m\u001b[0m\u001b[0;34m\u001b[0m\u001b[0m\n\u001b[1;32m    358\u001b[0m                         \u001b[0mbest_profile_year\u001b[0m \u001b[0;34m=\u001b[0m \u001b[0;36m0\u001b[0m\u001b[0;34m\u001b[0m\u001b[0;34m\u001b[0m\u001b[0m\n",
      "\u001b[0;31mNameError\u001b[0m: name 'reindexed_master_df' is not defined"
     ]
    }
   ],
   "source": [
    "ordered_df = nbad.tv_market_cumulative(ordered_df)"
   ]
  },
  {
   "cell_type": "code",
   "execution_count": null,
   "metadata": {},
   "outputs": [],
   "source": [
    "# And then interacting it with a few potentially relevant features\n",
    "ordered_df[\"Adjusted TV market value * MP\"] = ordered_df[\"Adjusted TV market value\"] * ordered_df[\"MP/game\"]\n",
    "ordered_df[\"Adjusted TV market value * GS\"] = ordered_df[\"Adjusted TV market value\"] * ordered_df[\"GS\"]"
   ]
  },
  {
   "source": [
    "## Feature engineering spotlight: \"Trajectory\"\n",
    "Here, I wanted to isolate a player's position on his growth curve to quantify the extent to which he will be better, worse or neither the following season—generally, but as measured in a specific area. I used what is likely the most All-Star-correlated stat (PPG) in my function but it could be updated to calculate the value based on growth in other areas and perhaps even a weighted mean of all the features used in the final model. The formula I came up with is, applied in the function called below, is as follows:\n",
    "\n",
    "- Unless the player is a rookie, each player-season has a \"Points per game\" value that is greater than, less than or equal to the value from his previous season\n",
    "- For each guy in year 2+, I assigned a value reflecting the expected change in PPG using this system:\n",
    "    - Year 2: Current year's \"Points per game\" - last year's \"Points per game\"\n",
    "    - Years 3+: The change in the *change* in \"Points per game\" between (Current year's \"Points per game\" - last year's \"Points per game\") and (last year's \"Points per game\" the year before that's \"Points per game\")\n",
    "        - If the resulting value was above 5 or below than -5 I multiplied the value by 1.25 or -1.25 respectively to give greater weight to what I'd quantified as an exceptional trend in player growth\n",
    "\n",
    "One major and problematic decision I made here was to assign players with no previous season to measure against (aka rookies) a \"Trajectory\" value of 0. In reality, while there is likely more variance, growth between year 1 and year 2 can be expected perhaps more than in any other year-to-year transition. I'll additionally note that like the math in my \"Adjusted TV market value\" calculus this math is inarguably wonky and could be improved with time."
   ],
   "cell_type": "markdown",
   "metadata": {}
  },
  {
   "cell_type": "code",
   "execution_count": null,
   "metadata": {},
   "outputs": [],
   "source": [
    "ordered_df = nbad.get_trajectory(ordered_df)"
   ]
  },
  {
   "source": [
    "## Removing injury replacement All-Stars\n",
    "Later than I would have liked, I decided that a guy named an All-Star as a replacement for an injured All-Star was made an All-Star by means of alternative process and not the one I was attempting to draw my model around."
   ],
   "cell_type": "markdown",
   "metadata": {}
  },
  {
   "cell_type": "code",
   "execution_count": null,
   "metadata": {},
   "outputs": [],
   "source": [
    "ordered_df = get_adjusted_all_star_games(ordered_df)\n",
    "\n",
    "# And then manually adding a column called \"Adjusted All-Star next season?\"\n",
    "next_year_adj_column = []\n",
    "for i in tqdm(range(ordered_df.shape[0]-1)):\n",
    "    current_guy = ordered_df.iloc[i][\"Player\"]\n",
    "    next_guy = ordered_df.iloc[i+1][\"Player\"]\n",
    "    if current_guy == next_guy:\n",
    "        if ordered_df.iloc[i+1][\"Adjusted All-Star?\"] == 1:\n",
    "            next_year_adj_column.append(1)\n",
    "        else:\n",
    "            next_year_adj_column.append(0)\n",
    "    else:\n",
    "        next_year_adj_column.append(0)\n",
    "\n",
    "# Because last player in his last year (like Big Z) can't make All-Star Game next year\n",
    "next_year_adj_column.append(0)\n",
    "ordered_df[\"Adjusted All-Star next season?\"] = next_year_adj_column"
   ]
  },
  {
   "source": [
    "## More feature engineering"
   ],
   "cell_type": "markdown",
   "metadata": {}
  },
  {
   "cell_type": "code",
   "execution_count": null,
   "metadata": {},
   "outputs": [],
   "source": [
    "# Adding a few more features built off existing features\n",
    "ordered_df[\"GS/G\"] = ordered_df[\"GS\"] / ordered_df[\"G\"]\n",
    "ordered_df[\"PTS+AST/game\"] = ordered_df[\"PTS/game\"] + ordered_df[\"AST/game\"]\n",
    "ordered_df[\"Years from prime ^ 2\"] = ordered_df[\"Years from prime\"]**2\n",
    "ordered_df[\"PTS+AST/game\"] = ordered_df[\"PTS/game\"] + ordered_df[\"AST/game\"]"
   ]
  },
  {
   "cell_type": "code",
   "execution_count": null,
   "metadata": {},
   "outputs": [],
   "source": [
    "# Making a column with values representing how many past All-Star Games a player has participated in and then making dummy columns from it\n",
    "ordered_df = nbad.get_past_all_star_games(ordered_df)\n",
    "ordered_df[ordered_df[\"Past All-Star Games (incl this season)\"].unique()] = pd.get_dummies(ordered_df[\"Past All-Star Games (incl this season)\"])"
   ]
  },
  {
   "cell_type": "code",
   "execution_count": null,
   "metadata": {},
   "outputs": [],
   "source": [
    "# Collecting clutch stats to add as columns via scraping\n",
    "list_of_seasons = ['1999-00', '2000-01', '2001-02', '2002-03', '2003-04', '2004-05', '2005-06', '2006-07', '2007-08', '2008-09', '2009-10', '2010-11', '2011-12', '2012-13', '2013-14', '2014-15', '2015-16', '2016-17', '2017-2018', '2018-2019']\n",
    "clutch_stats_df = nbad.get_clutch_stats(list_of_seasons)\n",
    "ordered_df = nbad.get_clutch(ordered_df)"
   ]
  },
  {
   "source": [
    "# Pickling dataset"
   ],
   "cell_type": "markdown",
   "metadata": {}
  },
  {
   "cell_type": "code",
   "execution_count": null,
   "metadata": {},
   "outputs": [],
   "source": [
    "with open(\"updated_df.pickle\", \"wb\") as to_write:\n",
    "    pickle.dump(ordered_df, to_write)"
   ]
  }
 ]
}